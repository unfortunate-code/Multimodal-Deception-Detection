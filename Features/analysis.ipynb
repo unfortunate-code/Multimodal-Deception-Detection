{
 "cells": [
  {
   "cell_type": "code",
   "execution_count": 1,
   "metadata": {},
   "outputs": [],
   "source": [
    "import os\n",
    "import csv"
   ]
  },
  {
   "cell_type": "code",
   "execution_count": 3,
   "metadata": {},
   "outputs": [
    {
     "name": "stdout",
     "output_type": "stream",
     "text": [
      "01-50-492-W-T-user2\n",
      "02-09-31-W-T-user101\n",
      "02-44-269-W-T-user64\n",
      "03-23-90-W-T-user51\n",
      "03-42-701-W-T-user27\n",
      "03-47-890-W-T-user151\n",
      "04-30-467-W-T-user161\n",
      "04-38-645-W-T-user96\n",
      "05-06-501-W-T-user158\n",
      "05-15-634-W-T-user78\n",
      "05-44-437-W-T-user115\n",
      "05-49-922-W-T-user10\n",
      "05-50-814-W-T-user20\n",
      "07-53-382-W-T-user147\n",
      "09-02-798-W-T-user99\n",
      "09-32-917-W-T-user100\n",
      "10-48-352-W-T-user38\n",
      "11-09-515-W-T-user150\n",
      "11-59-155-W-T-user118\n",
      "12-05-243-W-T-user8\n",
      "12-07-438-W-T-user62\n",
      "12-38-74-W-T-user133\n",
      "13-01-549-W-T-user51\n",
      "13-27-771-W-T-user33\n",
      "14-08-252-W-T-user89\n",
      "14-08-617-W-T-user141\n",
      "15-13-468-W-T-user5\n",
      "15-21-96-W-T-user79\n",
      "15-29-238-W-T-user116\n",
      "15-58-679-W-T-user28\n",
      "16-19-112-W-T-user21\n",
      "16-48-797-W-T-user93\n",
      "16-56-369-W-T-user71\n",
      "18-39-581-W-T-user35\n",
      "18-42-263-W-T-user131\n",
      "18-48-414-W-T-user145\n",
      "19-05-68-W-T-user158\n",
      "20-05-755-W-T-user122\n",
      "20-28-731-W-T-user126\n",
      "20-38-706-W-T-user12\n",
      "21-03-94-W-T-user99\n",
      "21-16-706-W-T-user110\n",
      "21-24-649-W-T-user52\n",
      "22-10-468-W-T-user124\n",
      "22-31-901-W-T-user87\n",
      "22-35-549-W-T-user63\n",
      "22-41-332-W-T-user73\n",
      "24-24-724-W-T-user132\n",
      "24-43-478-W-T-user70\n",
      "26-17-966-W-T-user152\n",
      "28-32-985-W-T-user97\n",
      "28-45-33-W-T-user64\n",
      "29-09-99-W-T-user143\n",
      "29-48-550-W-T-user125\n",
      "30-57-338-W-T-user88\n",
      "31-23-340-W-T-user56\n",
      "31-59-194-W-T-user69\n",
      "33-47-982-W-T-user119\n",
      "36-53-693-W-T-user108\n",
      "37-32-755-W-T-user124\n",
      "38-26-565-W-T-user76\n",
      "38-29-906-W-T-user95\n",
      "39-18-93-W-T-user40\n",
      "39-49-946-W-T-user89\n",
      "40-07-485-W-T-user150\n",
      "40-18-142-W-T-user139\n",
      "44-02-309-W-T-user137\n",
      "48-00-366-W-T-user138\n",
      "48-02-966-W-T-user147\n",
      "54-10-129-W-T-user49\n",
      "56-40-959-W-T-user137\n",
      "57-43-236-W-T-user159\n",
      "58-28-695-W-T-user80\n",
      "58-57-956-W-T-user146\n"
     ]
    }
   ],
   "source": [
    "TRUTH_FILES = os.listdir('../Dataset2/Videos/Truth/')\n",
    "for file in TRUTH_FILES:\n",
    "    print(file.split('.')[0])"
   ]
  },
  {
   "cell_type": "code",
   "execution_count": 4,
   "metadata": {},
   "outputs": [
    {
     "name": "stdout",
     "output_type": "stream",
     "text": [
      "00-13-953-W-B-user62\n",
      "00-34-288-W-B-user99\n",
      "01-01-49-W-B-user134\n",
      "01-25-367-W-B-user148\n",
      "01-38-934-W-B-user44\n",
      "02-20-877-W-B-user149\n",
      "02-28-29-W-B-user156\n",
      "02-40-950-W-B-user18\n",
      "03-12-820-W-B-user106\n",
      "04-01-129-W-B-user111\n",
      "04-57-574-W-B-user68\n",
      "06-18-285-W-B-user113\n",
      "06-44-152-W-B-user91\n",
      "06-50-611-W-B-user74\n",
      "06-57-279-W-B-user50\n",
      "08-33-112-W-B-user130\n",
      "09-14-629-W-B-user55\n",
      "09-18-253-W-B-user97\n",
      "09-44-142-W-B-user63\n",
      "11-17-124-W-B-user53\n",
      "11-22-452-W-B-user86\n",
      "11-22-778-W-B-user103\n",
      "11-26-504-W-B-user160\n",
      "11-44-333-W-B-user157\n",
      "11-45-95-W-B-user158\n",
      "12-03-237-W-B-user127\n",
      "12-23-235-W-B-user104\n",
      "12-24-294-W-B-user155\n",
      "13-11-507-W-B-user110\n",
      "13-20-248-W-B-user68\n",
      "14-04-955-W-B-user112\n",
      "14-45-849-W-B-user125\n",
      "15-00-532-W-B-user99\n",
      "16-14-317-W-B-user64\n",
      "16-40-42-W-B-user3\n",
      "17-10-481-W-B-user108\n",
      "17-15-163-W-B-user54\n",
      "18-12-410-W-B-user150\n",
      "18-43-166-W-B-user156\n",
      "19-04-926-W-B-user121\n",
      "19-27-616-W-B-user30\n",
      "19-35-145-W-B-user152\n",
      "20-31-480-W-B-user99\n",
      "20-40-167-W-B-user104\n",
      "21-37-95-W-B-user23\n",
      "22-05-764-W-B-user119\n",
      "24-30-926-W-B-user88\n",
      "26-15-622-W-B-user92\n",
      "27-19-148-W-B-user129\n",
      "27-35-915-W-B-user144\n",
      "27-37-757-W-B-user90\n",
      "27-51-501-W-B-user107\n",
      "28-32-854-W-B-user16\n",
      "28-52-283-W-B-user150\n",
      "30-40-756-W-B-user128\n",
      "30-42-250-W-B-user67\n",
      "30-46-620-W-B-user42\n",
      "31-08-51-W-B-user161\n",
      "33-07-644-W-B-user71\n",
      "35-42-851-W-B-user123\n",
      "36-04-870-W-B-user98\n",
      "36-37-921-W-B-user87\n",
      "37-36-401-W-B-user68\n",
      "38-55-777-W-B-user43\n",
      "41-41-762-W-B-user148\n",
      "44-30-30-W-B-user84\n",
      "46-30-695-W-B-user47\n",
      "47-20-540-W-B-user94\n",
      "48-39-430-W-B-user135\n",
      "50-29-214-W-B-user137\n",
      "50-50-13-W-B-user57\n",
      "51-16-907-W-B-user85\n",
      "57-19-201-W-B-user25\n",
      "57-52-839-W-B-user58\n",
      "59-09-521-W-B-user14\n"
     ]
    }
   ],
   "source": [
    "DECEPTION_FILES = os.listdir('../Dataset2/Videos/Lie/')\n",
    "for file in DECEPTION_FILES:\n",
    "    print(file.split('.')[0])"
   ]
  },
  {
   "cell_type": "code",
   "execution_count": 2,
   "metadata": {},
   "outputs": [
    {
     "name": "stdout",
     "output_type": "stream",
     "text": [
      "{'W': [47, 55], 'H': [5, 0], 'B': [8, 6]}\n",
      "{'F': [27, 47], 'M': [33, 14]}\n"
     ]
    }
   ],
   "source": [
    "race = {}\n",
    "gender = {}\n",
    "with open('../labels1.csv', 'r') as f:\n",
    "    reader = csv.reader(f)\n",
    "    next(reader)\n",
    "    for row in reader:\n",
    "        label = int(row[1])\n",
    "        race.setdefault(row[2], [0, 0])\n",
    "        race[row[2]][label] += 1\n",
    "        gender.setdefault(row[3], [0, 0])\n",
    "        gender[row[3]][label] += 1\n",
    "print(race)\n",
    "print(gender)"
   ]
  },
  {
   "cell_type": "code",
   "execution_count": 3,
   "metadata": {},
   "outputs": [
    {
     "name": "stdout",
     "output_type": "stream",
     "text": [
      "{'W': [42, 45], 'A': [14, 18], 'O': [5, 5], 'B': [8, 4], 'H': [5, 3]}\n",
      "{'M': [37, 42], 'F': [37, 33]}\n"
     ]
    }
   ],
   "source": [
    "race = {}\n",
    "gender = {}\n",
    "with open('../labels2.csv', 'r') as f:\n",
    "    reader = csv.reader(f)\n",
    "    next(reader)\n",
    "    for row in reader:\n",
    "        label = int(row[1])\n",
    "        race.setdefault(row[2], [0, 0])\n",
    "        race[row[2]][label] += 1\n",
    "        gender.setdefault(row[3], [0, 0])\n",
    "        gender[row[3]][label] += 1\n",
    "print(race)\n",
    "print(gender)"
   ]
  },
  {
   "cell_type": "code",
   "execution_count": null,
   "metadata": {},
   "outputs": [],
   "source": []
  }
 ],
 "metadata": {
  "kernelspec": {
   "display_name": "Python 3",
   "language": "python",
   "name": "python3"
  },
  "language_info": {
   "codemirror_mode": {
    "name": "ipython",
    "version": 3
   },
   "file_extension": ".py",
   "mimetype": "text/x-python",
   "name": "python",
   "nbconvert_exporter": "python",
   "pygments_lexer": "ipython3",
   "version": "3.9.16"
  },
  "orig_nbformat": 4
 },
 "nbformat": 4,
 "nbformat_minor": 2
}
