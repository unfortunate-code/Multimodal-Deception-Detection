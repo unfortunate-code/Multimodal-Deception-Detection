{
 "cells": [
  {
   "cell_type": "code",
   "execution_count": 1,
   "metadata": {},
   "outputs": [],
   "source": [
    "import torch\n",
    "import os\n",
    "import pickle\n",
    "from tqdm import tqdm\n",
    "import numpy as np\n",
    "from torch.utils.data import Dataset, DataLoader\n",
    "from sklearn.preprocessing import StandardScaler\n",
    "from sklearn.decomposition import PCA"
   ]
  },
  {
   "cell_type": "code",
   "execution_count": 2,
   "metadata": {},
   "outputs": [],
   "source": [
    "TRUTHFUL_VIDEO_PATH = '../../data/Clips/Truthful/'\n",
    "DECEPTIVE_VIDEO_PATH = '../../data/Clips/Deceptive/'\n",
    "TRUTHFUL_VIDEO_FILES = os.listdir(TRUTHFUL_VIDEO_PATH)\n",
    "DECEPTIVE_VIDEO_FILES = os.listdir(DECEPTIVE_VIDEO_PATH)"
   ]
  },
  {
   "cell_type": "code",
   "execution_count": 3,
   "metadata": {},
   "outputs": [],
   "source": [
    "DECEPTIVE_LEXICAL_PATH = '../../data/Transcription/Deceptive/'\n",
    "DECEPTIVE_LEXICAL_FILES = os.listdir(DECEPTIVE_LEXICAL_PATH)\n",
    "TRUTHFUL_LEXICAL_PATH = '../../data/Transcription/Truthful/'\n",
    "TRUTHFUL_LEXICAL_FILES = os.listdir(TRUTHFUL_LEXICAL_PATH)"
   ]
  },
  {
   "cell_type": "code",
   "execution_count": 4,
   "metadata": {},
   "outputs": [],
   "source": [
    "TRUTHFUL_ACOUSTIC_PATH = '../../data/Acoustic/Truthful/'\n",
    "DECEPTIVE_ACOUSTIC_PATH = '../../data/Acoustic/Deceptive/'\n",
    "TRUTHFUL_ACOUSTIC_FILES = os.listdir(TRUTHFUL_ACOUSTIC_PATH)\n",
    "DECEPTIVE_ACOUSTIC_FILES = os.listdir(DECEPTIVE_ACOUSTIC_PATH)"
   ]
  },
  {
   "cell_type": "code",
   "execution_count": 5,
   "metadata": {},
   "outputs": [],
   "source": [
    "class LexicalAcousticVideoClassifier(torch.nn.Module):\n",
    "    def __init__(self, embedding_size):\n",
    "        super(LexicalAcousticVideoClassifier, self).__init__()\n",
    "        self.linear1 = torch.nn.Linear(embedding_size, 16)\n",
    "        self.linear2 = torch.nn.Linear(16, 2)\n",
    "        torch.nn.init.kaiming_uniform_(self.linear1.weight)\n",
    "        torch.nn.init.xavier_uniform_(self.linear2.weight)\n",
    "    \n",
    "    def forward(self, x):\n",
    "        x = self.linear1(torch.nn.functional.relu(x))\n",
    "        return self.linear2(torch.nn.functional.relu(x))"
   ]
  },
  {
   "cell_type": "code",
   "execution_count": 6,
   "metadata": {},
   "outputs": [],
   "source": [
    "class AudioClassifierPCA(torch.nn.Module):\n",
    "    def __init__(self, embedding_size):\n",
    "        super(AudioClassifierPCA, self).__init__()\n",
    "        self.linear1 = torch.nn.Linear(embedding_size, 16)\n",
    "        self.linear2 = torch.nn.Linear(16, 2)\n",
    "        # Xavier initialize the linear layer\n",
    "        torch.nn.init.kaiming_uniform_(self.linear1.weight)\n",
    "        torch.nn.init.xavier_uniform_(self.linear2.weight)\n",
    "    \n",
    "    def forward(self, x):\n",
    "        x = self.linear1(torch.nn.functional.relu(x))\n",
    "        return self.linear2(torch.nn.functional.relu(x))"
   ]
  },
  {
   "cell_type": "code",
   "execution_count": 7,
   "metadata": {},
   "outputs": [],
   "source": [
    "class LexicalBertClassifierPCA(torch.nn.Module):\n",
    "    def __init__(self, embedding_size):\n",
    "        super(LexicalBertClassifierPCA, self).__init__()\n",
    "        self.linear1 = torch.nn.Linear(embedding_size, 16)\n",
    "        self.linear2 = torch.nn.Linear(16, 2)\n",
    "        torch.nn.init.kaiming_uniform_(self.linear1.weight)\n",
    "        torch.nn.init.xavier_uniform_(self.linear2.weight)\n",
    "    \n",
    "    def forward(self, x):\n",
    "        x = self.linear1(torch.nn.functional.relu(x))\n",
    "        return self.linear2(torch.nn.functional.relu(x))"
   ]
  },
  {
   "cell_type": "code",
   "execution_count": 8,
   "metadata": {},
   "outputs": [],
   "source": [
    "class VisualClassifierPCA(torch.nn.Module):\n",
    "    def __init__(self, embedding_size):\n",
    "        super(VisualClassifierPCA, self).__init__()\n",
    "        self.linear1 = torch.nn.Linear(embedding_size, 16)\n",
    "        self.linear2 = torch.nn.Linear(16, 2)\n",
    "        # Xavier initialize the linear layer\n",
    "        torch.nn.init.kaiming_uniform_(self.linear1.weight)\n",
    "        torch.nn.init.xavier_uniform_(self.linear2.weight)\n",
    "    \n",
    "    def forward(self, x):\n",
    "        x = self.linear1(torch.nn.functional.relu(x))\n",
    "        return self.linear2(torch.nn.functional.relu(x))"
   ]
  },
  {
   "cell_type": "code",
   "execution_count": 9,
   "metadata": {},
   "outputs": [],
   "source": [
    "class LexicalAcousticVideoLateFusion(torch.nn.Module):\n",
    "    def __init__(self, embedding_size):\n",
    "        super(LexicalAcousticVideoLateFusion, self).__init__()\n",
    "        self.acoustic = AudioClassifierPCA(embedding_size // 3)\n",
    "        self.lexical = LexicalBertClassifierPCA(embedding_size // 3)\n",
    "        self.visual = VisualClassifierPCA(embedding_size // 3)\n",
    "    \n",
    "    def forward(self, x):\n",
    "        # Split x into 3 parts\n",
    "        x = torch.split(x, x.shape[1] // 3, dim=1)\n",
    "        return (self.lexical(x[0]), self.acoustic(x[1]), self.visual(x[2]))"
   ]
  },
  {
   "cell_type": "code",
   "execution_count": 10,
   "metadata": {},
   "outputs": [],
   "source": [
    "class LexicalAcousticVideoDataset(Dataset):\n",
    "    def __init__(self, data, files, pca, test):\n",
    "        lexical_data, acoustic_data, video_data = data\n",
    "        lexical_file, acoustic_file, video_file = files\n",
    "        pca_l, sc_l, pca_a, sc_a, pca_v, sc_v = pca\n",
    "        self.lexical_embeddings = []\n",
    "        with open(lexical_file, 'rb') as f:\n",
    "            self.embedding_map = pickle.load(f)\n",
    "        for file in lexical_data:\n",
    "            embedding = self.embedding_map[file.split('.')[0]]\n",
    "            if type(embedding) == np.ndarray:\n",
    "                self.lexical_embeddings.append(embedding)\n",
    "            else:\n",
    "                self.lexical_embeddings.append(embedding.numpy())\n",
    "        self.lexical_embeddings = np.array(self.lexical_embeddings)\n",
    "        with open(video_file, 'rb') as f:\n",
    "            embeddings_map = pickle.load(f)\n",
    "        self.video_embeddings = np.array([embeddings_map[file.split('.')[0]].numpy() for file in video_data])\n",
    "        with open(acoustic_file, 'rb') as f:\n",
    "            embeddings_map = pickle.load(f)\n",
    "        self.acoustic_embeddings = np.array([embeddings_map[file] for file in acoustic_data])\n",
    "        if not test:\n",
    "            self.lexical_embeddings = sc_l.fit_transform(self.lexical_embeddings)\n",
    "            self.lexical_embeddings = pca_l.fit_transform(self.lexical_embeddings)\n",
    "            self.acoustic_embeddings = sc_a.fit_transform(self.acoustic_embeddings)\n",
    "            self.acoustic_embeddings = pca_a.fit_transform(self.acoustic_embeddings)\n",
    "            self.video_embeddings = sc_v.fit_transform(self.video_embeddings)\n",
    "            self.video_embeddings = pca_v.fit_transform(self.video_embeddings)\n",
    "        else:\n",
    "            self.lexical_embeddings = sc_l.transform(self.lexical_embeddings)\n",
    "            self.lexical_embeddings = pca_l.transform(self.lexical_embeddings)\n",
    "            self.acoustic_embeddings = sc_a.transform(self.acoustic_embeddings)\n",
    "            self.acoustic_embeddings = pca_a.transform(self.acoustic_embeddings)\n",
    "            self.video_embeddings = sc_v.transform(self.video_embeddings)\n",
    "            self.video_embeddings = pca_v.transform(self.video_embeddings)\n",
    "        self.lexical_embeddings = torch.from_numpy(self.lexical_embeddings).float()\n",
    "        self.acoustic_embeddings = torch.from_numpy(self.acoustic_embeddings).float()\n",
    "        self.video_embeddings = torch.from_numpy(self.video_embeddings).float()\n",
    "        self.labels = [0 if file.split('_')[1] == 'truth' else 1 for file in video_data]\n",
    "    \n",
    "    def __len__(self):\n",
    "        return len(self.labels)\n",
    "\n",
    "    def __getitem__(self, index):\n",
    "        return torch.concat((self.lexical_embeddings[index], self.acoustic_embeddings[index], self.video_embeddings[index])), self.labels[index]"
   ]
  },
  {
   "cell_type": "code",
   "execution_count": 11,
   "metadata": {},
   "outputs": [],
   "source": [
    "device = torch.device('cuda' if torch.cuda.is_available() else 'cpu')"
   ]
  },
  {
   "cell_type": "code",
   "execution_count": 12,
   "metadata": {},
   "outputs": [],
   "source": [
    "def train(model, train_loader, criterion, optimizer, num_epochs, late_fusion):\n",
    "    for _ in range(num_epochs):\n",
    "        model.train()\n",
    "        for x, y in train_loader:\n",
    "            x = x.to(device)\n",
    "            y = y.to(device)\n",
    "            out = model(x)\n",
    "            if late_fusion:\n",
    "                loss = criterion(out[0], y) + criterion(out[1], y) + criterion(out[2], y)\n",
    "            else:\n",
    "                loss = criterion(out, y)\n",
    "            optimizer.zero_grad()\n",
    "            loss.backward()\n",
    "            optimizer.step()"
   ]
  },
  {
   "cell_type": "code",
   "execution_count": 13,
   "metadata": {},
   "outputs": [],
   "source": [
    "def eval(model, val_loader, late_fusion):\n",
    "    model.eval()\n",
    "    with torch.no_grad():\n",
    "        correct = 0\n",
    "        total = 0\n",
    "        for x, y in val_loader:\n",
    "            x = x.to(device)\n",
    "            y = y.to(device)\n",
    "            out = model(x)\n",
    "            if not late_fusion:\n",
    "                _, predicted = torch.max(out.data, 1)\n",
    "            else:\n",
    "                _, p0 = torch.max(out[0].data, 1)\n",
    "                _, p1 = torch.max(out[1].data, 1)\n",
    "                _, p2 = torch.max(out[2].data, 1)\n",
    "                predicted = p0\n",
    "                predicted[p1 == p2] = p1[p1 == p2]\n",
    "            total += y.size(0)\n",
    "            correct += (predicted == y).sum().item()\n",
    "        return correct / total"
   ]
  },
  {
   "cell_type": "code",
   "execution_count": 14,
   "metadata": {},
   "outputs": [],
   "source": [
    "def kfold(lexical_file, acoustic_file, video_file, train_batch_size, embedding_size):\n",
    "    truthful_acoustic_data = list(TRUTHFUL_ACOUSTIC_FILES)\n",
    "    deceptive_acoustic_data = list(DECEPTIVE_ACOUSTIC_FILES)\n",
    "    truthful_video_data = list(TRUTHFUL_VIDEO_FILES)\n",
    "    deceptive_video_data = list(DECEPTIVE_VIDEO_FILES)\n",
    "    truthful_lexical_data = list(TRUTHFUL_LEXICAL_FILES)\n",
    "    deceptive_lexical_data = list(DECEPTIVE_LEXICAL_FILES)\n",
    "    for i in range(10):\n",
    "        val_acoustic_data = truthful_acoustic_data[i*6:(i+1)*6] + deceptive_acoustic_data[i*6:(i+1)*6]\n",
    "        train_acoustic_data = truthful_acoustic_data[:i*6] + truthful_acoustic_data[(i+1)*6:] + deceptive_acoustic_data[:i*6] + deceptive_acoustic_data[(i+1)*6:]\n",
    "        val_video_data = truthful_video_data[i*6:(i+1)*6] + deceptive_video_data[i*6:(i+1)*6]\n",
    "        train_video_data = truthful_video_data[:i*6] + truthful_video_data[(i+1)*6:] + deceptive_video_data[:i*6] + deceptive_video_data[(i+1)*6:]\n",
    "        val_lexical_data = truthful_lexical_data[i*6:(i+1)*6] + deceptive_lexical_data[i*6:(i+1)*6]\n",
    "        train_lexical_data = truthful_lexical_data[:i*6] + truthful_lexical_data[(i+1)*6:] + deceptive_lexical_data[:i*6] + deceptive_lexical_data[(i+1)*6:]\n",
    "        sc_a = StandardScaler()\n",
    "        pca_a = PCA(n_components=embedding_size // 3)\n",
    "        sc_v = StandardScaler()\n",
    "        pca_v = PCA(n_components=embedding_size // 3)\n",
    "        sc_l = StandardScaler()\n",
    "        pca_l = PCA(n_components=embedding_size // 3)\n",
    "        train_dataset = LexicalAcousticVideoDataset((train_lexical_data, train_acoustic_data, train_video_data), (lexical_file, acoustic_file, video_file), (pca_l, sc_l, pca_a, sc_a, pca_v, sc_v), False)\n",
    "        val_dataset = LexicalAcousticVideoDataset((val_lexical_data, val_acoustic_data, val_video_data), (lexical_file, acoustic_file, video_file), (pca_l, sc_l, pca_a, sc_a, pca_v, sc_v), True)\n",
    "        train_loader = DataLoader(train_dataset, batch_size=train_batch_size, shuffle=True)\n",
    "        val_loader = DataLoader(val_dataset, batch_size=12)\n",
    "        yield train_loader, val_loader"
   ]
  },
  {
   "cell_type": "code",
   "execution_count": 15,
   "metadata": {},
   "outputs": [],
   "source": [
    "def run_one_fold(train_loader, val_loader, num_epochs, embedding_size, late_fusion):\n",
    "    if not late_fusion:\n",
    "        model = LexicalAcousticVideoClassifier(embedding_size)\n",
    "    else:\n",
    "        model = LexicalAcousticVideoLateFusion(embedding_size)\n",
    "    model.to(device)\n",
    "    learning_rate = 1e-3\n",
    "    criterion = torch.nn.CrossEntropyLoss()\n",
    "    optimizer = torch.optim.Adam(model.parameters(), lr=learning_rate)\n",
    "    train(model, train_loader, criterion, optimizer, num_epochs, late_fusion)\n",
    "    return eval(model, val_loader, late_fusion)"
   ]
  },
  {
   "cell_type": "code",
   "execution_count": 16,
   "metadata": {},
   "outputs": [],
   "source": [
    "def get_model_accuracy(lexical_file, acoustic_file, video_file, train_batch_size, num_epochs, embedding_size = 96, late_fusion = False):\n",
    "    accuracies = []\n",
    "    for train_loader, val_loader in kfold(lexical_file, acoustic_file, video_file, train_batch_size, embedding_size):\n",
    "        accuracies.append(run_one_fold(train_loader, val_loader, num_epochs, embedding_size, late_fusion))\n",
    "    return sum(accuracies) / len(accuracies)"
   ]
  },
  {
   "cell_type": "code",
   "execution_count": 22,
   "metadata": {},
   "outputs": [
    {
     "data": {
      "text/plain": [
       "0.55"
      ]
     },
     "execution_count": 22,
     "metadata": {},
     "output_type": "execute_result"
    }
   ],
   "source": [
    "# Model accuracy for bert-base-uncased, hubert-large-ls960-ft and resnet-3d-18\n",
    "get_model_accuracy('../../embeddings/transcript_features_1.pkl', '../../embeddings/acoustic_features_1.pkl', '../../embeddings/visual_features.pkl', 4, 20, 96)"
   ]
  },
  {
   "cell_type": "code",
   "execution_count": 23,
   "metadata": {},
   "outputs": [
    {
     "data": {
      "text/plain": [
       "0.5583333333333333"
      ]
     },
     "execution_count": 23,
     "metadata": {},
     "output_type": "execute_result"
    }
   ],
   "source": [
    "# Model accuracy for bert-base-cased-finetuned-emotion and hubert-large-ls960-ft and resnet-3d-18\n",
    "get_model_accuracy('../../embeddings/transcript_features_2.pkl', '../../embeddings/acoustic_features_1.pkl', '../../embeddings/visual_features.pkl', 4, 20, 96)"
   ]
  },
  {
   "cell_type": "code",
   "execution_count": 24,
   "metadata": {},
   "outputs": [
    {
     "data": {
      "text/plain": [
       "0.6"
      ]
     },
     "execution_count": 24,
     "metadata": {},
     "output_type": "execute_result"
    }
   ],
   "source": [
    "# Model accuracy for transformersbook/distilbert-base-uncased-finetuned-emotion and hubert-large-ls960-ft and resnet-3d-18\n",
    "get_model_accuracy('../../embeddings/transcript_features_3.pkl', '../../embeddings/acoustic_features_1.pkl', '../../embeddings/visual_features.pkl', 4, 20, 96)"
   ]
  },
  {
   "cell_type": "code",
   "execution_count": 25,
   "metadata": {},
   "outputs": [
    {
     "data": {
      "text/plain": [
       "0.5666666666666667"
      ]
     },
     "execution_count": 25,
     "metadata": {},
     "output_type": "execute_result"
    }
   ],
   "source": [
    "# Model accuracy for mpNet and hubert-large-ls960-ft and resnet-3d-18\n",
    "get_model_accuracy('../../embeddings/transcript_features_6.pkl', '../../embeddings/acoustic_features_1.pkl', '../../embeddings/visual_features.pkl', 4, 20, 96)"
   ]
  },
  {
   "cell_type": "code",
   "execution_count": 26,
   "metadata": {},
   "outputs": [
    {
     "data": {
      "text/plain": [
       "0.6249999999999999"
      ]
     },
     "execution_count": 26,
     "metadata": {},
     "output_type": "execute_result"
    }
   ],
   "source": [
    "# Model accuracy for bert-base-uncased, hubert-large-ls960-ft and resnet-3d-18 Late Fusion\n",
    "get_model_accuracy('../../embeddings/transcript_features_1.pkl', '../../embeddings/acoustic_features_1.pkl', '../../embeddings/visual_features.pkl', 4, 20, 96, True)"
   ]
  },
  {
   "cell_type": "code",
   "execution_count": 27,
   "metadata": {},
   "outputs": [
    {
     "data": {
      "text/plain": [
       "0.6166666666666666"
      ]
     },
     "execution_count": 27,
     "metadata": {},
     "output_type": "execute_result"
    }
   ],
   "source": [
    "# Model accuracy for bert-base-uncased, hubert-large-ls960-ft and resnet-3d-18 Late Fusion\n",
    "get_model_accuracy('../../embeddings/transcript_features_1.pkl', '../../embeddings/acoustic_features_1.pkl', '../../embeddings/visual_features.pkl', 4, 20, 192, True)"
   ]
  },
  {
   "cell_type": "code",
   "execution_count": 28,
   "metadata": {},
   "outputs": [
    {
     "data": {
      "text/plain": [
       "0.55"
      ]
     },
     "execution_count": 28,
     "metadata": {},
     "output_type": "execute_result"
    }
   ],
   "source": [
    "# Model accuracy for bert-base-cased-finetuned-emotion and hubert-large-ls960-ft and resnet-3d-18 Late Fusion\n",
    "get_model_accuracy('../../embeddings/transcript_features_2.pkl', '../../embeddings/acoustic_features_1.pkl', '../../embeddings/visual_features.pkl', 4, 20, 96, True)"
   ]
  },
  {
   "cell_type": "code",
   "execution_count": 29,
   "metadata": {},
   "outputs": [
    {
     "data": {
      "text/plain": [
       "0.5416666666666666"
      ]
     },
     "execution_count": 29,
     "metadata": {},
     "output_type": "execute_result"
    }
   ],
   "source": [
    "# Model accuracy for bert-base-cased-finetuned-emotion and hubert-large-ls960-ft and resnet-3d-18 Late Fusion\n",
    "get_model_accuracy('../../embeddings/transcript_features_2.pkl', '../../embeddings/acoustic_features_1.pkl', '../../embeddings/visual_features.pkl', 4, 20, 192, True)"
   ]
  },
  {
   "cell_type": "code",
   "execution_count": 30,
   "metadata": {},
   "outputs": [
    {
     "data": {
      "text/plain": [
       "0.6416666666666666"
      ]
     },
     "execution_count": 30,
     "metadata": {},
     "output_type": "execute_result"
    }
   ],
   "source": [
    "# Model accuracy for transformersbook/distilbert-base-uncased-finetuned-emotion and hubert-large-ls960-ft and resnet-3d-18 Late Fusion\n",
    "get_model_accuracy('../../embeddings/transcript_features_3.pkl', '../../embeddings/acoustic_features_1.pkl', '../../embeddings/visual_features.pkl', 4, 20, 96, True)"
   ]
  },
  {
   "cell_type": "code",
   "execution_count": 31,
   "metadata": {},
   "outputs": [
    {
     "data": {
      "text/plain": [
       "0.6583333333333333"
      ]
     },
     "execution_count": 31,
     "metadata": {},
     "output_type": "execute_result"
    }
   ],
   "source": [
    "# Model accuracy for transformersbook/distilbert-base-uncased-finetuned-emotion and hubert-large-ls960-ft and resnet-3d-18 Late Fusion\n",
    "get_model_accuracy('../../embeddings/transcript_features_3.pkl', '../../embeddings/acoustic_features_1.pkl', '../../embeddings/visual_features.pkl', 4, 20, 192, True)"
   ]
  },
  {
   "cell_type": "code",
   "execution_count": 32,
   "metadata": {},
   "outputs": [
    {
     "data": {
      "text/plain": [
       "0.7083333333333334"
      ]
     },
     "execution_count": 32,
     "metadata": {},
     "output_type": "execute_result"
    }
   ],
   "source": [
    "# Model accuracy for mpNet and hubert-large-ls960-ft and resnet-3d-18 Late Fusion\n",
    "get_model_accuracy('../../embeddings/transcript_features_6.pkl', '../../embeddings/acoustic_features_1.pkl', '../../embeddings/visual_features.pkl', 4, 20, 96, True)"
   ]
  },
  {
   "cell_type": "code",
   "execution_count": 33,
   "metadata": {},
   "outputs": [
    {
     "data": {
      "text/plain": [
       "0.65"
      ]
     },
     "execution_count": 33,
     "metadata": {},
     "output_type": "execute_result"
    }
   ],
   "source": [
    "# Model accuracy for mpNet and hubert-large-ls960-ft and resnet-3d-18 Late Fusion\n",
    "get_model_accuracy('../../embeddings/transcript_features_6.pkl', '../../embeddings/acoustic_features_1.pkl', '../../embeddings/visual_features.pkl', 4, 20, 192, True)"
   ]
  },
  {
   "cell_type": "code",
   "execution_count": 34,
   "metadata": {},
   "outputs": [
    {
     "data": {
      "text/plain": [
       "0.6416666666666667"
      ]
     },
     "execution_count": 34,
     "metadata": {},
     "output_type": "execute_result"
    }
   ],
   "source": [
    "# Model accuracy for bert-base-uncased, vggish and resnet-3d-18\n",
    "get_model_accuracy('../../embeddings/transcript_features_1.pkl', '../../embeddings/acoustic_features_2.pkl', '../../embeddings/visual_features.pkl', 4, 20, 96)"
   ]
  },
  {
   "cell_type": "code",
   "execution_count": 35,
   "metadata": {},
   "outputs": [
    {
     "data": {
      "text/plain": [
       "0.5750000000000001"
      ]
     },
     "execution_count": 35,
     "metadata": {},
     "output_type": "execute_result"
    }
   ],
   "source": [
    "# Model accuracy for bert-base-cased-finetuned-emotion and vggish and resnet-3d-18\n",
    "get_model_accuracy('../../embeddings/transcript_features_2.pkl', '../../embeddings/acoustic_features_2.pkl', '../../embeddings/visual_features.pkl', 4, 20, 96)"
   ]
  },
  {
   "cell_type": "code",
   "execution_count": 19,
   "metadata": {},
   "outputs": [
    {
     "data": {
      "text/plain": [
       "0.6333333333333333"
      ]
     },
     "execution_count": 19,
     "metadata": {},
     "output_type": "execute_result"
    }
   ],
   "source": [
    "# Model accuracy for transformersbook/distilbert-base-uncased-finetuned-emotion and vggish and resnet-3d-18\n",
    "get_model_accuracy('../../embeddings/transcript_features_3.pkl', '../../embeddings/acoustic_features_2.pkl', '../../embeddings/visual_features.pkl', 4, 20, 96)"
   ]
  },
  {
   "cell_type": "code",
   "execution_count": 20,
   "metadata": {},
   "outputs": [
    {
     "data": {
      "text/plain": [
       "0.6"
      ]
     },
     "execution_count": 20,
     "metadata": {},
     "output_type": "execute_result"
    }
   ],
   "source": [
    "# Model accuracy for mpNet and vggish and resnet-3d-18\n",
    "get_model_accuracy('../../embeddings/transcript_features_6.pkl', '../../embeddings/acoustic_features_2.pkl', '../../embeddings/visual_features.pkl', 4, 20, 96)"
   ]
  },
  {
   "cell_type": "code",
   "execution_count": 21,
   "metadata": {},
   "outputs": [
    {
     "data": {
      "text/plain": [
       "0.65"
      ]
     },
     "execution_count": 21,
     "metadata": {},
     "output_type": "execute_result"
    }
   ],
   "source": [
    "# Model accuracy for bert-base-uncased, vggish and resnet-3d-18 Late Fusion\n",
    "get_model_accuracy('../../embeddings/transcript_features_1.pkl', '../../embeddings/acoustic_features_2.pkl', '../../embeddings/visual_features.pkl', 4, 20, 96, True)"
   ]
  },
  {
   "cell_type": "code",
   "execution_count": 36,
   "metadata": {},
   "outputs": [
    {
     "data": {
      "text/plain": [
       "0.5916666666666666"
      ]
     },
     "execution_count": 36,
     "metadata": {},
     "output_type": "execute_result"
    }
   ],
   "source": [
    "# Model accuracy for bert-base-uncased, vggish and resnet-3d-18 Late Fusion\n",
    "get_model_accuracy('../../embeddings/transcript_features_1.pkl', '../../embeddings/acoustic_features_2.pkl', '../../embeddings/visual_features.pkl', 4, 20, 192, True)"
   ]
  },
  {
   "cell_type": "code",
   "execution_count": 37,
   "metadata": {},
   "outputs": [
    {
     "data": {
      "text/plain": [
       "0.625"
      ]
     },
     "execution_count": 37,
     "metadata": {},
     "output_type": "execute_result"
    }
   ],
   "source": [
    "# Model accuracy for bert-base-cased-finetuned-emotion and vggish and resnet-3d-18 Late Fusion\n",
    "get_model_accuracy('../../embeddings/transcript_features_2.pkl', '../../embeddings/acoustic_features_2.pkl', '../../embeddings/visual_features.pkl', 4, 20, 96, True)"
   ]
  },
  {
   "cell_type": "code",
   "execution_count": 38,
   "metadata": {},
   "outputs": [
    {
     "data": {
      "text/plain": [
       "0.6333333333333334"
      ]
     },
     "execution_count": 38,
     "metadata": {},
     "output_type": "execute_result"
    }
   ],
   "source": [
    "# Model accuracy for bert-base-cased-finetuned-emotion and vggish and resnet-3d-18 Late Fusion\n",
    "get_model_accuracy('../../embeddings/transcript_features_2.pkl', '../../embeddings/acoustic_features_2.pkl', '../../embeddings/visual_features.pkl', 4, 20, 192, True)"
   ]
  },
  {
   "cell_type": "code",
   "execution_count": 39,
   "metadata": {},
   "outputs": [
    {
     "data": {
      "text/plain": [
       "0.5916666666666666"
      ]
     },
     "execution_count": 39,
     "metadata": {},
     "output_type": "execute_result"
    }
   ],
   "source": [
    "# Model accuracy for transformersbook/distilbert-base-uncased-finetuned-emotion and vggish and resnet-3d-18 Late Fusion\n",
    "get_model_accuracy('../../embeddings/transcript_features_3.pkl', '../../embeddings/acoustic_features_2.pkl', '../../embeddings/visual_features.pkl', 4, 20, 96, True)"
   ]
  },
  {
   "cell_type": "code",
   "execution_count": 40,
   "metadata": {},
   "outputs": [
    {
     "data": {
      "text/plain": [
       "0.5999999999999999"
      ]
     },
     "execution_count": 40,
     "metadata": {},
     "output_type": "execute_result"
    }
   ],
   "source": [
    "# Model accuracy for transformersbook/distilbert-base-uncased-finetuned-emotion and vggish and resnet-3d-18 Late Fusion\n",
    "get_model_accuracy('../../embeddings/transcript_features_3.pkl', '../../embeddings/acoustic_features_2.pkl', '../../embeddings/visual_features.pkl', 4, 20, 192, True)"
   ]
  },
  {
   "cell_type": "code",
   "execution_count": 41,
   "metadata": {},
   "outputs": [
    {
     "data": {
      "text/plain": [
       "0.6833333333333333"
      ]
     },
     "execution_count": 41,
     "metadata": {},
     "output_type": "execute_result"
    }
   ],
   "source": [
    "# Model accuracy for mpNet and vggish and resnet-3d-18 Late Fusion\n",
    "get_model_accuracy('../../embeddings/transcript_features_6.pkl', '../../embeddings/acoustic_features_2.pkl', '../../embeddings/visual_features.pkl', 4, 20, 96, True)"
   ]
  },
  {
   "cell_type": "code",
   "execution_count": 42,
   "metadata": {},
   "outputs": [
    {
     "data": {
      "text/plain": [
       "0.575"
      ]
     },
     "execution_count": 42,
     "metadata": {},
     "output_type": "execute_result"
    }
   ],
   "source": [
    "# Model accuracy for mpNet and vggish and resnet-3d-18 Late Fusion\n",
    "get_model_accuracy('../../embeddings/transcript_features_6.pkl', '../../embeddings/acoustic_features_2.pkl', '../../embeddings/visual_features.pkl', 4, 20, 192, True)"
   ]
  }
 ],
 "metadata": {
  "kernelspec": {
   "display_name": "Python 3",
   "language": "python",
   "name": "python3"
  },
  "language_info": {
   "codemirror_mode": {
    "name": "ipython",
    "version": 3
   },
   "file_extension": ".py",
   "mimetype": "text/x-python",
   "name": "python",
   "nbconvert_exporter": "python",
   "pygments_lexer": "ipython3",
   "version": "3.9.16"
  },
  "orig_nbformat": 4
 },
 "nbformat": 4,
 "nbformat_minor": 2
}
