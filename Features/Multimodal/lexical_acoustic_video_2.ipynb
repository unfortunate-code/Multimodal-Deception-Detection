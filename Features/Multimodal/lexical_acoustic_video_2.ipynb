{
 "cells": [
  {
   "cell_type": "code",
   "execution_count": 1,
   "metadata": {},
   "outputs": [],
   "source": [
    "import torch\n",
    "import os\n",
    "import pickle\n",
    "from tqdm import tqdm\n",
    "import numpy as np\n",
    "from torch.utils.data import Dataset, DataLoader\n",
    "from sklearn.preprocessing import StandardScaler\n",
    "from sklearn.decomposition import PCA"
   ]
  },
  {
   "cell_type": "code",
   "execution_count": 2,
   "metadata": {},
   "outputs": [],
   "source": [
    "class LexicalAcousticVideoClassifier(torch.nn.Module):\n",
    "    def __init__(self, embedding_size):\n",
    "        super(LexicalAcousticVideoClassifier, self).__init__()\n",
    "        self.linear1 = torch.nn.Linear(embedding_size, 16)\n",
    "        self.linear2 = torch.nn.Linear(16, 2)\n",
    "        torch.nn.init.kaiming_uniform_(self.linear1.weight)\n",
    "        torch.nn.init.xavier_uniform_(self.linear2.weight)\n",
    "    \n",
    "    def forward(self, x):\n",
    "        x = self.linear1(torch.nn.functional.relu(x))\n",
    "        return self.linear2(torch.nn.functional.relu(x))"
   ]
  },
  {
   "cell_type": "code",
   "execution_count": 3,
   "metadata": {},
   "outputs": [],
   "source": [
    "class AudioClassifierPCA(torch.nn.Module):\n",
    "    def __init__(self, embedding_size):\n",
    "        super(AudioClassifierPCA, self).__init__()\n",
    "        self.linear1 = torch.nn.Linear(embedding_size, 16)\n",
    "        self.linear2 = torch.nn.Linear(16, 2)\n",
    "        # Xavier initialize the linear layer\n",
    "        torch.nn.init.kaiming_uniform_(self.linear1.weight)\n",
    "        torch.nn.init.xavier_uniform_(self.linear2.weight)\n",
    "    \n",
    "    def forward(self, x):\n",
    "        x = self.linear1(torch.nn.functional.relu(x))\n",
    "        return self.linear2(torch.nn.functional.relu(x))"
   ]
  },
  {
   "cell_type": "code",
   "execution_count": 4,
   "metadata": {},
   "outputs": [],
   "source": [
    "class LexicalBertClassifierPCA(torch.nn.Module):\n",
    "    def __init__(self, embedding_size):\n",
    "        super(LexicalBertClassifierPCA, self).__init__()\n",
    "        self.linear1 = torch.nn.Linear(embedding_size, 16)\n",
    "        self.linear2 = torch.nn.Linear(16, 2)\n",
    "        torch.nn.init.kaiming_uniform_(self.linear1.weight)\n",
    "        torch.nn.init.xavier_uniform_(self.linear2.weight)\n",
    "    \n",
    "    def forward(self, x):\n",
    "        x = self.linear1(torch.nn.functional.relu(x))\n",
    "        return self.linear2(torch.nn.functional.relu(x))"
   ]
  },
  {
   "cell_type": "code",
   "execution_count": 5,
   "metadata": {},
   "outputs": [],
   "source": [
    "class VisualClassifierPCA(torch.nn.Module):\n",
    "    def __init__(self, embedding_size):\n",
    "        super(VisualClassifierPCA, self).__init__()\n",
    "        self.linear1 = torch.nn.Linear(embedding_size, 16)\n",
    "        self.linear2 = torch.nn.Linear(16, 2)\n",
    "        # Xavier initialize the linear layer\n",
    "        torch.nn.init.kaiming_uniform_(self.linear1.weight)\n",
    "        torch.nn.init.xavier_uniform_(self.linear2.weight)\n",
    "    \n",
    "    def forward(self, x):\n",
    "        x = self.linear1(torch.nn.functional.relu(x))\n",
    "        return self.linear2(torch.nn.functional.relu(x))"
   ]
  },
  {
   "cell_type": "code",
   "execution_count": 6,
   "metadata": {},
   "outputs": [],
   "source": [
    "class LexicalAcousticVideoLateFusion(torch.nn.Module):\n",
    "    def __init__(self, embedding_size):\n",
    "        super(LexicalAcousticVideoLateFusion, self).__init__()\n",
    "        self.acoustic = AudioClassifierPCA(embedding_size // 3)\n",
    "        self.lexical = LexicalBertClassifierPCA(embedding_size // 3)\n",
    "        self.visual = VisualClassifierPCA(embedding_size // 3)\n",
    "    \n",
    "    def forward(self, x):\n",
    "        # Split x into 3 parts\n",
    "        x = torch.split(x, x.shape[1] // 3, dim=1)\n",
    "        return (self.lexical(x[0]), self.acoustic(x[1]), self.visual(x[2]))"
   ]
  },
  {
   "cell_type": "code",
   "execution_count": 7,
   "metadata": {},
   "outputs": [],
   "source": [
    "class LexicalAcousticVideoDataset(Dataset):\n",
    "    def __init__(self, data, labels, files, pca, test):\n",
    "        lexical_data, acoustic_data, video_data = data\n",
    "        lexical_file, acoustic_file, video_file = files\n",
    "        pca_l, sc_l, pca_a, sc_a, pca_v, sc_v = pca\n",
    "        self.lexical_embeddings = []\n",
    "        with open(lexical_file, 'rb') as f:\n",
    "            self.embedding_map = pickle.load(f)\n",
    "        for file in lexical_data:\n",
    "            embedding = self.embedding_map[file.split('.')[0]]\n",
    "            if type(embedding) == np.ndarray:\n",
    "                self.lexical_embeddings.append(embedding)\n",
    "            else:\n",
    "                self.lexical_embeddings.append(embedding.numpy())\n",
    "        self.lexical_embeddings = np.array(self.lexical_embeddings)\n",
    "        with open(video_file, 'rb') as f:\n",
    "            embeddings_map = pickle.load(f)\n",
    "        self.video_embeddings = np.array([embeddings_map[file.split('.')[0]].numpy() for file in video_data])\n",
    "        with open(acoustic_file, 'rb') as f:\n",
    "            embeddings_map = pickle.load(f)\n",
    "        self.acoustic_embeddings = np.array([embeddings_map[file] for file in acoustic_data])\n",
    "        if not test:\n",
    "            self.lexical_embeddings = sc_l.fit_transform(self.lexical_embeddings)\n",
    "            self.lexical_embeddings = pca_l.fit_transform(self.lexical_embeddings)\n",
    "            self.acoustic_embeddings = sc_a.fit_transform(self.acoustic_embeddings)\n",
    "            self.acoustic_embeddings = pca_a.fit_transform(self.acoustic_embeddings)\n",
    "            self.video_embeddings = sc_v.fit_transform(self.video_embeddings)\n",
    "            self.video_embeddings = pca_v.fit_transform(self.video_embeddings)\n",
    "        else:\n",
    "            self.lexical_embeddings = sc_l.transform(self.lexical_embeddings)\n",
    "            self.lexical_embeddings = pca_l.transform(self.lexical_embeddings)\n",
    "            self.acoustic_embeddings = sc_a.transform(self.acoustic_embeddings)\n",
    "            self.acoustic_embeddings = pca_a.transform(self.acoustic_embeddings)\n",
    "            self.video_embeddings = sc_v.transform(self.video_embeddings)\n",
    "            self.video_embeddings = pca_v.transform(self.video_embeddings)\n",
    "        self.lexical_embeddings = torch.from_numpy(self.lexical_embeddings).float()\n",
    "        self.acoustic_embeddings = torch.from_numpy(self.acoustic_embeddings).float()\n",
    "        self.video_embeddings = torch.from_numpy(self.video_embeddings).float()\n",
    "        self.labels = labels\n",
    "    \n",
    "    def __len__(self):\n",
    "        return len(self.labels)\n",
    "\n",
    "    def __getitem__(self, index):\n",
    "        return torch.concat((self.lexical_embeddings[index], self.acoustic_embeddings[index], self.video_embeddings[index])), self.labels[index]"
   ]
  },
  {
   "cell_type": "code",
   "execution_count": 8,
   "metadata": {},
   "outputs": [],
   "source": [
    "device = torch.device('cuda' if torch.cuda.is_available() else 'cpu')"
   ]
  },
  {
   "cell_type": "code",
   "execution_count": 9,
   "metadata": {},
   "outputs": [],
   "source": [
    "def train(model, train_loader, criterion, optimizer, num_epochs, late_fusion):\n",
    "    for _ in range(num_epochs):\n",
    "        model.train()\n",
    "        for x, y in train_loader:\n",
    "            x = x.to(device)\n",
    "            y = y.to(device)\n",
    "            out = model(x)\n",
    "            if late_fusion:\n",
    "                loss = criterion(out[0], y) + criterion(out[1], y) + criterion(out[2], y)\n",
    "            else:\n",
    "                loss = criterion(out, y)\n",
    "            optimizer.zero_grad()\n",
    "            loss.backward()\n",
    "            optimizer.step()"
   ]
  },
  {
   "cell_type": "code",
   "execution_count": 10,
   "metadata": {},
   "outputs": [],
   "source": [
    "def eval(model, val_loader, late_fusion):\n",
    "    model.eval()\n",
    "    with torch.no_grad():\n",
    "        correct = 0\n",
    "        total = 0\n",
    "        for x, y in val_loader:\n",
    "            x = x.to(device)\n",
    "            y = y.to(device)\n",
    "            out = model(x)\n",
    "            if not late_fusion:\n",
    "                _, predicted = torch.max(out.data, 1)\n",
    "            else:\n",
    "                _, p0 = torch.max(out[0].data, 1)\n",
    "                _, p1 = torch.max(out[1].data, 1)\n",
    "                _, p2 = torch.max(out[2].data, 1)\n",
    "                predicted = p0\n",
    "                predicted[p1 == p2] = p1[p1 == p2]\n",
    "            total += y.size(0)\n",
    "            correct += (predicted == y).sum().item()\n",
    "        return correct / total"
   ]
  },
  {
   "cell_type": "code",
   "execution_count": 11,
   "metadata": {},
   "outputs": [],
   "source": [
    "def get_lexical_data(TRUTH_DIR, DECEPTION_DIR):\n",
    "    data = []\n",
    "    for file in os.listdir(TRUTH_DIR):\n",
    "        data.append(file)\n",
    "    for file in os.listdir(DECEPTION_DIR):\n",
    "        data.append(file)\n",
    "    return data"
   ]
  },
  {
   "cell_type": "code",
   "execution_count": 31,
   "metadata": {},
   "outputs": [],
   "source": [
    "train_acoustic_data = []\n",
    "train_labels = []\n",
    "for file in os.listdir('../../data/Acoustic/Truthful/'):\n",
    "    train_acoustic_data.append(file)\n",
    "    train_labels.append(0)\n",
    "for file in os.listdir('../../data/Acoustic/Deceptive/'):\n",
    "    train_acoustic_data.append(file)\n",
    "    train_labels.append(1)\n",
    "\n",
    "test_acoustic_data = []\n",
    "test_labels = []\n",
    "for file in os.listdir('../../Dataset2/Audio/Truth/'):\n",
    "    key = file.split('.')[0]\n",
    "    key = '-'.join(key.split('-')[:3])\n",
    "    test_acoustic_data.append(key)\n",
    "    test_labels.append(0)\n",
    "for file in os.listdir('../../Dataset2/Audio/Lies/'):\n",
    "    key = file.split('.')[0]\n",
    "    key = '-'.join(key.split('-')[:3])\n",
    "    test_acoustic_data.append(key)\n",
    "    test_labels.append(1)\n",
    "\n",
    "train_video_data = []\n",
    "for file in os.listdir('../../data/Clips/Truthful/'):\n",
    "    train_video_data.append(file.split('.')[0])\n",
    "for file in os.listdir('../../data/Clips/Deceptive/'):\n",
    "    train_video_data.append(file.split('.')[0])\n",
    "\n",
    "test_video_data = []\n",
    "for file in os.listdir('../../Dataset2/Videos/Truth/'):\n",
    "    key = file.split('.')[0]\n",
    "    key = '-'.join(key.split('-')[:3])\n",
    "    test_video_data.append(key)\n",
    "for file in os.listdir('../../Dataset2/Videos/Lie/'):\n",
    "    key = file.split('.')[0]\n",
    "    key = '-'.join(key.split('-')[:3])\n",
    "    test_video_data.append(key)\n",
    "\n",
    "train_lexical_data = get_lexical_data('../../data/Transcription/Truthful/', '../../data/Transcription/Deceptive/')\n",
    "test_lexical_data = get_lexical_data('../../Dataset2/Text/Truth/', '../../Dataset2/Text/Lie/')"
   ]
  },
  {
   "cell_type": "code",
   "execution_count": 32,
   "metadata": {},
   "outputs": [],
   "source": [
    "def get_accuracy(train_lexical_file, train_acoustic_file, train_video_file, test_lexical_file, test_acoustic_file, test_video_file, embedding_size, train_batch_size, num_epochs, late_fusion):\n",
    "    sc_a = StandardScaler()\n",
    "    pca_a = PCA(n_components=embedding_size // 3)\n",
    "    sc_v = StandardScaler()\n",
    "    pca_v = PCA(n_components=embedding_size // 3)\n",
    "    sc_l = StandardScaler()\n",
    "    pca_l = PCA(n_components=embedding_size // 3)\n",
    "    train_dataset = LexicalAcousticVideoDataset((train_lexical_data, train_acoustic_data, train_video_data), train_labels, (train_lexical_file, train_acoustic_file, train_video_file), (pca_l, sc_l, pca_a, sc_a, pca_v, sc_v), False)\n",
    "    test_dataset = LexicalAcousticVideoDataset((test_lexical_data, test_acoustic_data, test_video_data), test_labels, (test_lexical_file, test_acoustic_file, test_video_file), (pca_l, sc_l, pca_a, sc_a, pca_v, sc_v), True)\n",
    "    if late_fusion:\n",
    "        model = LexicalAcousticVideoLateFusion(embedding_size).to(device)\n",
    "    else:\n",
    "        model = LexicalAcousticVideoClassifier(embedding_size).to(device)\n",
    "    train_loader = DataLoader(train_dataset, batch_size=train_batch_size, shuffle=True)\n",
    "    test_loader = DataLoader(test_dataset, batch_size=32, shuffle=False)\n",
    "    learning_rate = 1e-3\n",
    "    criterion = torch.nn.CrossEntropyLoss()\n",
    "    optimizer = torch.optim.Adam(model.parameters(), lr=learning_rate)\n",
    "    train(model, train_loader, criterion, optimizer, num_epochs, late_fusion)\n",
    "    return eval(model, test_loader, late_fusion)"
   ]
  },
  {
   "cell_type": "code",
   "execution_count": 33,
   "metadata": {},
   "outputs": [
    {
     "data": {
      "text/plain": [
       "0.4697986577181208"
      ]
     },
     "execution_count": 33,
     "metadata": {},
     "output_type": "execute_result"
    }
   ],
   "source": [
    "# Model accuracy for bert-base-uncased, vggish and resnet-3d-18\n",
    "get_accuracy('../../embeddings/transcript_features_1.pkl', '../../embeddings/acoustic_features_2.pkl', '../../embeddings/visual_features.pkl', '../../embeddings2/transcript_features_1.pkl', '../../embeddings2/acoustic_features_2.pkl', '../../embeddings2/visual_features.pkl', 96, 4, 20, False)"
   ]
  },
  {
   "cell_type": "code",
   "execution_count": 34,
   "metadata": {},
   "outputs": [
    {
     "data": {
      "text/plain": [
       "0.5033557046979866"
      ]
     },
     "execution_count": 34,
     "metadata": {},
     "output_type": "execute_result"
    }
   ],
   "source": [
    "# Model accuracy for bert-base-cased-finetuned-emotion and vggish and resnet-3d-18\n",
    "get_accuracy('../../embeddings/transcript_features_2.pkl', '../../embeddings/acoustic_features_2.pkl', '../../embeddings/visual_features.pkl', '../../embeddings2/transcript_features_2.pkl', '../../embeddings2/acoustic_features_2.pkl', '../../embeddings2/visual_features.pkl', 96, 4, 20, False)"
   ]
  },
  {
   "cell_type": "code",
   "execution_count": 35,
   "metadata": {},
   "outputs": [
    {
     "data": {
      "text/plain": [
       "0.47651006711409394"
      ]
     },
     "execution_count": 35,
     "metadata": {},
     "output_type": "execute_result"
    }
   ],
   "source": [
    "# Model accuracy for transformersbook/distilbert-base-uncased-finetuned-emotion and vggish and resnet-3d-18\n",
    "get_accuracy('../../embeddings/transcript_features_3.pkl', '../../embeddings/acoustic_features_2.pkl', '../../embeddings/visual_features.pkl', '../../embeddings2/transcript_features_3.pkl', '../../embeddings2/acoustic_features_2.pkl', '../../embeddings2/visual_features.pkl', 96, 4, 20, False)"
   ]
  },
  {
   "cell_type": "code",
   "execution_count": 36,
   "metadata": {},
   "outputs": [
    {
     "data": {
      "text/plain": [
       "0.5033557046979866"
      ]
     },
     "execution_count": 36,
     "metadata": {},
     "output_type": "execute_result"
    }
   ],
   "source": [
    "# Model accuracy for mpNet and vggish and resnet-3d-18\n",
    "get_accuracy('../../embeddings/transcript_features_6.pkl', '../../embeddings/acoustic_features_2.pkl', '../../embeddings/visual_features.pkl', '../../embeddings2/transcript_features_6.pkl', '../../embeddings2/acoustic_features_2.pkl', '../../embeddings2/visual_features.pkl', 96, 4, 20, False)"
   ]
  },
  {
   "cell_type": "code",
   "execution_count": 37,
   "metadata": {},
   "outputs": [
    {
     "data": {
      "text/plain": [
       "0.48322147651006714"
      ]
     },
     "execution_count": 37,
     "metadata": {},
     "output_type": "execute_result"
    }
   ],
   "source": [
    "# Model accuracy for bert-base-uncased, vggish and resnet-3d-18 Late Fusion\n",
    "get_accuracy('../../embeddings/transcript_features_1.pkl', '../../embeddings/acoustic_features_2.pkl', '../../embeddings/visual_features.pkl', '../../embeddings2/transcript_features_1.pkl', '../../embeddings2/acoustic_features_2.pkl', '../../embeddings2/visual_features.pkl', 96, 4, 20, True)"
   ]
  },
  {
   "cell_type": "code",
   "execution_count": 38,
   "metadata": {},
   "outputs": [
    {
     "data": {
      "text/plain": [
       "0.4697986577181208"
      ]
     },
     "execution_count": 38,
     "metadata": {},
     "output_type": "execute_result"
    }
   ],
   "source": [
    "# Model accuracy for bert-base-uncased, vggish and resnet-3d-18 Late Fusion\n",
    "get_accuracy('../../embeddings/transcript_features_1.pkl', '../../embeddings/acoustic_features_2.pkl', '../../embeddings/visual_features.pkl', '../../embeddings2/transcript_features_1.pkl', '../../embeddings2/acoustic_features_2.pkl', '../../embeddings2/visual_features.pkl', 192, 4, 20, True)"
   ]
  },
  {
   "cell_type": "code",
   "execution_count": 39,
   "metadata": {},
   "outputs": [
    {
     "data": {
      "text/plain": [
       "0.48322147651006714"
      ]
     },
     "execution_count": 39,
     "metadata": {},
     "output_type": "execute_result"
    }
   ],
   "source": [
    "# Model accuracy for bert-base-cased-finetuned-emotion and vggish and resnet-3d-18\n",
    "get_accuracy('../../embeddings/transcript_features_2.pkl', '../../embeddings/acoustic_features_2.pkl', '../../embeddings/visual_features.pkl', '../../embeddings2/transcript_features_2.pkl', '../../embeddings2/acoustic_features_2.pkl', '../../embeddings2/visual_features.pkl', 96, 4, 20, True)"
   ]
  },
  {
   "cell_type": "code",
   "execution_count": 40,
   "metadata": {},
   "outputs": [
    {
     "data": {
      "text/plain": [
       "0.46308724832214765"
      ]
     },
     "execution_count": 40,
     "metadata": {},
     "output_type": "execute_result"
    }
   ],
   "source": [
    "# Model accuracy for bert-base-cased-finetuned-emotion and vggish and resnet-3d-18\n",
    "get_accuracy('../../embeddings/transcript_features_2.pkl', '../../embeddings/acoustic_features_2.pkl', '../../embeddings/visual_features.pkl', '../../embeddings2/transcript_features_2.pkl', '../../embeddings2/acoustic_features_2.pkl', '../../embeddings2/visual_features.pkl', 192, 4, 20, True)"
   ]
  },
  {
   "cell_type": "code",
   "execution_count": 41,
   "metadata": {},
   "outputs": [
    {
     "data": {
      "text/plain": [
       "0.46308724832214765"
      ]
     },
     "execution_count": 41,
     "metadata": {},
     "output_type": "execute_result"
    }
   ],
   "source": [
    "# Model accuracy for mpNet and vggish and resnet-3d-18\n",
    "get_accuracy('../../embeddings/transcript_features_6.pkl', '../../embeddings/acoustic_features_2.pkl', '../../embeddings/visual_features.pkl', '../../embeddings2/transcript_features_6.pkl', '../../embeddings2/acoustic_features_2.pkl', '../../embeddings2/visual_features.pkl', 96, 4, 20, True)"
   ]
  },
  {
   "cell_type": "code",
   "execution_count": 42,
   "metadata": {},
   "outputs": [
    {
     "data": {
      "text/plain": [
       "0.5570469798657718"
      ]
     },
     "execution_count": 42,
     "metadata": {},
     "output_type": "execute_result"
    }
   ],
   "source": [
    "# Model accuracy for mpNet and vggish and resnet-3d-18\n",
    "get_accuracy('../../embeddings/transcript_features_6.pkl', '../../embeddings/acoustic_features_2.pkl', '../../embeddings/visual_features.pkl', '../../embeddings2/transcript_features_6.pkl', '../../embeddings2/acoustic_features_2.pkl', '../../embeddings2/visual_features.pkl', 192, 4, 20, True)"
   ]
  }
 ],
 "metadata": {
  "kernelspec": {
   "display_name": "Python 3",
   "language": "python",
   "name": "python3"
  },
  "language_info": {
   "codemirror_mode": {
    "name": "ipython",
    "version": 3
   },
   "file_extension": ".py",
   "mimetype": "text/x-python",
   "name": "python",
   "nbconvert_exporter": "python",
   "pygments_lexer": "ipython3",
   "version": "3.9.16"
  },
  "orig_nbformat": 4
 },
 "nbformat": 4,
 "nbformat_minor": 2
}
