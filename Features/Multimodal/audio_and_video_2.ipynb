{
 "cells": [
  {
   "cell_type": "code",
   "execution_count": 1,
   "metadata": {},
   "outputs": [],
   "source": [
    "import torch\n",
    "import os\n",
    "import pickle\n",
    "from tqdm import tqdm\n",
    "import numpy as np\n",
    "from torch.utils.data import Dataset, DataLoader\n",
    "from sklearn.preprocessing import StandardScaler\n",
    "from sklearn.decomposition import PCA"
   ]
  },
  {
   "cell_type": "code",
   "execution_count": 2,
   "metadata": {},
   "outputs": [],
   "source": [
    "class AcousticAndVideoClassifier(torch.nn.Module):\n",
    "    def __init__(self, embedding_size):\n",
    "        super(AcousticAndVideoClassifier, self).__init__()\n",
    "        self.linear1 = torch.nn.Linear(embedding_size, 16)\n",
    "        self.linear2 = torch.nn.Linear(16, 2)\n",
    "        torch.nn.init.kaiming_uniform_(self.linear1.weight)\n",
    "        torch.nn.init.xavier_uniform_(self.linear2.weight)\n",
    "    \n",
    "    def forward(self, x):\n",
    "        x = self.linear1(torch.nn.functional.relu(x))\n",
    "        return self.linear2(torch.nn.functional.relu(x))"
   ]
  },
  {
   "cell_type": "code",
   "execution_count": 3,
   "metadata": {},
   "outputs": [],
   "source": [
    "class AcousticAndVideoDataset(Dataset):\n",
    "    def __init__(self, acoustic_data, video_data, labels, acoustic_file, video_file, pca_a, sc_a, pca_v, sc_v, test):\n",
    "        with open(acoustic_file, 'rb') as f:\n",
    "            embeddings_map = pickle.load(f)\n",
    "        self.acoustic_embeddings = np.array([embeddings_map[file] for file in acoustic_data])\n",
    "        with open(video_file, 'rb') as f:\n",
    "            embeddings_map = pickle.load(f)\n",
    "        self.video_embeddings = np.array([embeddings_map[file.split('.')[0]].numpy() for file in video_data])\n",
    "        if not test:\n",
    "            self.acoustic_embeddings = sc_a.fit_transform(self.acoustic_embeddings)\n",
    "            self.acoustic_embeddings = pca_a.fit_transform(self.acoustic_embeddings)\n",
    "            self.video_embeddings = sc_v.fit_transform(self.video_embeddings)\n",
    "            self.video_embeddings = pca_v.fit_transform(self.video_embeddings)\n",
    "        else:\n",
    "            self.acoustic_embeddings = sc_a.transform(self.acoustic_embeddings)\n",
    "            self.acoustic_embeddings = pca_a.transform(self.acoustic_embeddings)\n",
    "            self.video_embeddings = sc_v.transform(self.video_embeddings)\n",
    "            self.video_embeddings = pca_v.transform(self.video_embeddings)\n",
    "        self.acoustic_embeddings = torch.from_numpy(self.acoustic_embeddings).float()\n",
    "        self.video_embeddings = torch.from_numpy(self.video_embeddings).float()\n",
    "        self.labels = labels\n",
    "    \n",
    "    def __len__(self):\n",
    "        return len(self.labels)\n",
    "\n",
    "    def __getitem__(self, index):\n",
    "        return torch.concat((self.acoustic_embeddings[index], self.video_embeddings[index])), self.labels[index]"
   ]
  },
  {
   "cell_type": "code",
   "execution_count": 4,
   "metadata": {},
   "outputs": [],
   "source": [
    "device = torch.device('cuda' if torch.cuda.is_available() else 'cpu')"
   ]
  },
  {
   "cell_type": "code",
   "execution_count": 5,
   "metadata": {},
   "outputs": [],
   "source": [
    "def train(model, train_loader, criterion, optimizer, num_epochs):\n",
    "    for _ in range(num_epochs):\n",
    "        model.train()\n",
    "        for x, y in train_loader:\n",
    "            x = x.to(device)\n",
    "            y = y.to(device)\n",
    "            out = model(x)\n",
    "            loss = criterion(out, y)\n",
    "            optimizer.zero_grad()\n",
    "            loss.backward()\n",
    "            optimizer.step()"
   ]
  },
  {
   "cell_type": "code",
   "execution_count": 6,
   "metadata": {},
   "outputs": [],
   "source": [
    "def eval(model, val_loader):\n",
    "    model.eval()\n",
    "    with torch.no_grad():\n",
    "        correct = 0\n",
    "        total = 0\n",
    "        for x, y in val_loader:\n",
    "            x = x.to(device)\n",
    "            y = y.to(device)\n",
    "            out = model(x)\n",
    "            _, predicted = torch.max(out.data, 1)\n",
    "            total += y.size(0)\n",
    "            correct += (predicted == y).sum().item()\n",
    "        return correct / total"
   ]
  },
  {
   "cell_type": "code",
   "execution_count": 7,
   "metadata": {},
   "outputs": [],
   "source": [
    "train_acoustic_data = []\n",
    "train_labels = []\n",
    "for file in os.listdir('../../data/Acoustic/Truthful/'):\n",
    "    train_acoustic_data.append(file)\n",
    "    train_labels.append(0)\n",
    "for file in os.listdir('../../data/Acoustic/Deceptive/'):\n",
    "    train_acoustic_data.append(file)\n",
    "    train_labels.append(1)\n",
    "\n",
    "test_acoustic_data = []\n",
    "test_labels = []\n",
    "for file in os.listdir('../../Dataset2/Audio/Truth/'):\n",
    "    key = file.split('.')[0]\n",
    "    key = '-'.join(key.split('-')[:3])\n",
    "    test_acoustic_data.append(key)\n",
    "    test_labels.append(0)\n",
    "for file in os.listdir('../../Dataset2/Audio/Lies/'):\n",
    "    key = file.split('.')[0]\n",
    "    key = '-'.join(key.split('-')[:3])\n",
    "    test_acoustic_data.append(key)\n",
    "    test_labels.append(1)\n",
    "\n",
    "train_video_data = []\n",
    "for file in os.listdir('../../data/Clips/Truthful/'):\n",
    "    train_video_data.append(file.split('.')[0])\n",
    "for file in os.listdir('../../data/Clips/Deceptive/'):\n",
    "    train_video_data.append(file.split('.')[0])\n",
    "\n",
    "test_video_data = []\n",
    "for file in os.listdir('../../Dataset2/Videos/Truth/'):\n",
    "    key = file.split('.')[0]\n",
    "    key = '-'.join(key.split('-')[:3])\n",
    "    test_video_data.append(key)\n",
    "for file in os.listdir('../../Dataset2/Videos/Lie/'):\n",
    "    key = file.split('.')[0]\n",
    "    key = '-'.join(key.split('-')[:3])\n",
    "    test_video_data.append(key)\n"
   ]
  },
  {
   "cell_type": "code",
   "execution_count": 8,
   "metadata": {},
   "outputs": [],
   "source": [
    "def get_accuracy(train_acoustic_file, train_video_file, test_acoustic_file, test_video_file, embedding_size, train_batch_size, num_epochs):\n",
    "    sc_v = StandardScaler()\n",
    "    pca_v = PCA(n_components=embedding_size // 2)\n",
    "    sc_a = StandardScaler()\n",
    "    pca_a = PCA(n_components=embedding_size // 2)\n",
    "    train_dataset = AcousticAndVideoDataset(train_acoustic_data, train_video_data, train_labels, train_acoustic_file, train_video_file, pca_a, sc_a, pca_v, sc_v, False)\n",
    "    test_dataset = AcousticAndVideoDataset(test_acoustic_data, test_video_data, test_labels, test_acoustic_file, test_video_file, pca_a, sc_a, pca_v, sc_v, True)\n",
    "    model = AcousticAndVideoClassifier(embedding_size).to(device)\n",
    "    train_loader = DataLoader(train_dataset, batch_size=train_batch_size, shuffle=True)\n",
    "    test_loader = DataLoader(test_dataset, batch_size=32, shuffle=False)\n",
    "    learning_rate = 1e-3\n",
    "    criterion = torch.nn.CrossEntropyLoss()\n",
    "    optimizer = torch.optim.Adam(model.parameters(), lr=learning_rate)\n",
    "    train(model, train_loader, criterion, optimizer, num_epochs)\n",
    "    return eval(model, test_loader)"
   ]
  },
  {
   "cell_type": "code",
   "execution_count": 18,
   "metadata": {},
   "outputs": [
    {
     "data": {
      "text/plain": [
       "0.4899328859060403"
      ]
     },
     "execution_count": 18,
     "metadata": {},
     "output_type": "execute_result"
    }
   ],
   "source": [
    "# Model accuracy for vggish and resnet-3d-18\n",
    "get_accuracy('../../embeddings/acoustic_features_2.pkl', '../../embeddings/visual_features.pkl', '../../embeddings2/acoustic_features_2.pkl', '../../embeddings2/visual_features.pkl', 64, 4, 20)"
   ]
  },
  {
   "cell_type": "code",
   "execution_count": 21,
   "metadata": {},
   "outputs": [
    {
     "data": {
      "text/plain": [
       "0.5100671140939598"
      ]
     },
     "execution_count": 21,
     "metadata": {},
     "output_type": "execute_result"
    }
   ],
   "source": [
    "# Model accuracy for vggish and resnet-3d-18\n",
    "get_accuracy('../../embeddings/acoustic_features_2.pkl', '../../embeddings/visual_features.pkl', '../../embeddings2/acoustic_features_2.pkl', '../../embeddings2/visual_features.pkl', 96, 4, 20)"
   ]
  },
  {
   "cell_type": "code",
   "execution_count": 9,
   "metadata": {},
   "outputs": [
    {
     "data": {
      "text/plain": [
       "0.5436241610738255"
      ]
     },
     "execution_count": 9,
     "metadata": {},
     "output_type": "execute_result"
    }
   ],
   "source": [
    "# Model accuracy for vggish and deep id face\n",
    "get_accuracy('../../embeddings/acoustic_features_2.pkl', '../../embeddings/visual_features_2.pkl', '../../embeddings2/acoustic_features_2.pkl', '../../embeddings2/visual_features_2.pkl', 96, 4, 20)"
   ]
  },
  {
   "cell_type": "code",
   "execution_count": 10,
   "metadata": {},
   "outputs": [
    {
     "data": {
      "text/plain": [
       "0.5302013422818792"
      ]
     },
     "execution_count": 10,
     "metadata": {},
     "output_type": "execute_result"
    }
   ],
   "source": [
    "# Model accuracy for vggish and facenet\n",
    "get_accuracy('../../embeddings/acoustic_features_2.pkl', '../../embeddings/visual_features_3.pkl', '../../embeddings2/acoustic_features_2.pkl', '../../embeddings2/visual_features_3.pkl', 96, 4, 20)"
   ]
  },
  {
   "cell_type": "code",
   "execution_count": 12,
   "metadata": {},
   "outputs": [
    {
     "data": {
      "text/plain": [
       "0.5570469798657718"
      ]
     },
     "execution_count": 12,
     "metadata": {},
     "output_type": "execute_result"
    }
   ],
   "source": [
    "# Model accuracy for vggish and openface\n",
    "get_accuracy('../../embeddings/acoustic_features_2.pkl', '../../embeddings/visual_features_4.pkl', '../../embeddings2/acoustic_features_2.pkl', '../../embeddings2/visual_features_4.pkl', 96, 4, 20)"
   ]
  },
  {
   "cell_type": "code",
   "execution_count": 13,
   "metadata": {},
   "outputs": [
    {
     "data": {
      "text/plain": [
       "0.5369127516778524"
      ]
     },
     "execution_count": 13,
     "metadata": {},
     "output_type": "execute_result"
    }
   ],
   "source": [
    "# Model accuracy for vggish and vggface\n",
    "get_accuracy('../../embeddings/acoustic_features_2.pkl', '../../embeddings/visual_features_5.pkl', '../../embeddings2/acoustic_features_2.pkl', '../../embeddings2/visual_features_5.pkl', 96, 4, 20)"
   ]
  }
 ],
 "metadata": {
  "kernelspec": {
   "display_name": "Python 3",
   "language": "python",
   "name": "python3"
  },
  "language_info": {
   "codemirror_mode": {
    "name": "ipython",
    "version": 3
   },
   "file_extension": ".py",
   "mimetype": "text/x-python",
   "name": "python",
   "nbconvert_exporter": "python",
   "pygments_lexer": "ipython3",
   "version": "3.9.16"
  },
  "orig_nbformat": 4
 },
 "nbformat": 4,
 "nbformat_minor": 2
}
