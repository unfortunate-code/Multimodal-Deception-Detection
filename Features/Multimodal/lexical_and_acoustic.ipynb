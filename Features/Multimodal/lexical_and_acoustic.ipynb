{
 "cells": [
  {
   "cell_type": "code",
   "execution_count": 1,
   "metadata": {},
   "outputs": [],
   "source": [
    "import torch\n",
    "import os\n",
    "import pickle\n",
    "from tqdm import tqdm\n",
    "import numpy as np\n",
    "from torch.utils.data import Dataset, DataLoader\n",
    "from sklearn.preprocessing import StandardScaler\n",
    "from sklearn.decomposition import PCA"
   ]
  },
  {
   "cell_type": "code",
   "execution_count": 3,
   "metadata": {},
   "outputs": [],
   "source": [
    "TRUTHFUL_ACOUSTIC_PATH = '../../data/Acoustic/Truthful/'\n",
    "DECEPTIVE_ACOUSTIC_PATH = '../../data/Acoustic/Deceptive/'\n",
    "TRUTHFUL_ACOUSTIC_FILES = os.listdir(TRUTHFUL_ACOUSTIC_PATH)\n",
    "DECEPTIVE_ACOUSTIC_FILES = os.listdir(DECEPTIVE_ACOUSTIC_PATH)"
   ]
  },
  {
   "cell_type": "code",
   "execution_count": 4,
   "metadata": {},
   "outputs": [],
   "source": [
    "DECEPTIVE_LEXICAL_PATH = '../../data/Transcription/Deceptive/'\n",
    "DECEPTIVE_LEXICAL_FILES = os.listdir(DECEPTIVE_LEXICAL_PATH)\n",
    "TRUTHFUL_LEXICAL_PATH = '../../data/Transcription/Truthful/'\n",
    "TRUTHFUL_LEXICAL_FILES = os.listdir(TRUTHFUL_LEXICAL_PATH)"
   ]
  },
  {
   "cell_type": "code",
   "execution_count": 53,
   "metadata": {},
   "outputs": [],
   "source": [
    "class LexicalAndAcousticClassifier(torch.nn.Module):\n",
    "    def __init__(self, embedding_size):\n",
    "        super(LexicalAndAcousticClassifier, self).__init__()\n",
    "        self.linear1 = torch.nn.Linear(embedding_size, 16)\n",
    "        self.linear2 = torch.nn.Linear(16, 2)\n",
    "        torch.nn.init.kaiming_uniform_(self.linear1.weight)\n",
    "        torch.nn.init.xavier_uniform_(self.linear2.weight)\n",
    "    \n",
    "    def forward(self, x):\n",
    "        x = self.linear1(torch.nn.functional.relu(x))\n",
    "        return self.linear2(torch.nn.functional.relu(x))"
   ]
  },
  {
   "cell_type": "code",
   "execution_count": 33,
   "metadata": {},
   "outputs": [],
   "source": [
    "class LexicalAndAcousticDataset(Dataset):\n",
    "    def __init__(self, lexical_data, acoustic_data, lexical_file, acoustic_file, pca_l, sc_l, pca_a, sc_a, test):\n",
    "        self.lexical_embeddings = []\n",
    "        self.labels = []\n",
    "        with open(lexical_file, 'rb') as f:\n",
    "            self.embedding_map = pickle.load(f)\n",
    "        for file in lexical_data:\n",
    "            embedding = self.embedding_map[file.split('.')[0]]\n",
    "            if type(embedding) == np.ndarray:\n",
    "                self.lexical_embeddings.append(embedding)\n",
    "            else:\n",
    "                self.lexical_embeddings.append(embedding.numpy())\n",
    "        self.lexical_embeddings = np.array(self.lexical_embeddings)\n",
    "        with open(acoustic_file, 'rb') as f:\n",
    "            embeddings_map = pickle.load(f)\n",
    "        self.acoustic_embeddings = np.array([embeddings_map[file] for file in acoustic_data])\n",
    "        if not test:\n",
    "            self.lexical_embeddings = sc_l.fit_transform(self.lexical_embeddings)\n",
    "            self.lexical_embeddings = pca_l.fit_transform(self.lexical_embeddings)\n",
    "            self.acoustic_embeddings = sc_a.fit_transform(self.acoustic_embeddings)\n",
    "            self.acoustic_embeddings = pca_a.fit_transform(self.acoustic_embeddings)\n",
    "        else:\n",
    "            self.lexical_embeddings = sc_l.transform(self.lexical_embeddings)\n",
    "            self.lexical_embeddings = pca_l.transform(self.lexical_embeddings)\n",
    "            self.acoustic_embeddings = sc_a.transform(self.acoustic_embeddings)\n",
    "            self.acoustic_embeddings = pca_a.transform(self.acoustic_embeddings)\n",
    "        self.lexical_embeddings = torch.from_numpy(self.lexical_embeddings).float()\n",
    "        self.acoustic_embeddings = torch.from_numpy(self.acoustic_embeddings).float()\n",
    "        self.labels = [0 if file.split('_')[1] == 'truth' else 1 for file in acoustic_data]\n",
    "    \n",
    "    def __len__(self):\n",
    "        return len(self.labels)\n",
    "\n",
    "    def __getitem__(self, index):\n",
    "        return torch.concat((self.lexical_embeddings[index], self.acoustic_embeddings[index])), self.labels[index]"
   ]
  },
  {
   "cell_type": "code",
   "execution_count": 34,
   "metadata": {},
   "outputs": [],
   "source": [
    "device = torch.device('cuda' if torch.cuda.is_available() else 'cpu')"
   ]
  },
  {
   "cell_type": "code",
   "execution_count": 35,
   "metadata": {},
   "outputs": [],
   "source": [
    "def train(model, train_loader, criterion, optimizer, num_epochs):\n",
    "    for _ in range(num_epochs):\n",
    "        model.train()\n",
    "        for x, y in train_loader:\n",
    "            x = x.to(device)\n",
    "            y = y.to(device)\n",
    "            out = model(x)\n",
    "            loss = criterion(out, y)\n",
    "            optimizer.zero_grad()\n",
    "            loss.backward()\n",
    "            optimizer.step()"
   ]
  },
  {
   "cell_type": "code",
   "execution_count": 36,
   "metadata": {},
   "outputs": [],
   "source": [
    "def eval(model, val_loader):\n",
    "    model.eval()\n",
    "    with torch.no_grad():\n",
    "        correct = 0\n",
    "        total = 0\n",
    "        for x, y in val_loader:\n",
    "            x = x.to(device)\n",
    "            y = y.to(device)\n",
    "            out = model(x)\n",
    "            _, predicted = torch.max(out.data, 1)\n",
    "            total += y.size(0)\n",
    "            correct += (predicted == y).sum().item()\n",
    "        return correct / total"
   ]
  },
  {
   "cell_type": "code",
   "execution_count": 37,
   "metadata": {},
   "outputs": [],
   "source": [
    "def kfold(lexical_file, acoustic_file, train_batch_size, embedding_size):\n",
    "    truthful_acoustic_data = list(TRUTHFUL_ACOUSTIC_FILES)\n",
    "    deceptive_acoustic_data = list(DECEPTIVE_ACOUSTIC_FILES)\n",
    "    truthful_lexical_data = list(TRUTHFUL_LEXICAL_FILES)\n",
    "    deceptive_lexical_data = list(DECEPTIVE_LEXICAL_FILES)\n",
    "    for i in range(10):\n",
    "        val_acoustic_data = truthful_acoustic_data[i*6:(i+1)*6] + deceptive_acoustic_data[i*6:(i+1)*6]\n",
    "        train_acoustic_data = truthful_acoustic_data[:i*6] + truthful_acoustic_data[(i+1)*6:] + deceptive_acoustic_data[:i*6] + deceptive_acoustic_data[(i+1)*6:]\n",
    "        val_lexical_data = truthful_lexical_data[i*6:(i+1)*6] + deceptive_lexical_data[i*6:(i+1)*6]\n",
    "        train_lexical_data = truthful_lexical_data[:i*6] + truthful_lexical_data[(i+1)*6:] + deceptive_lexical_data[:i*6] + deceptive_lexical_data[(i+1)*6:]\n",
    "        sc_a = StandardScaler()\n",
    "        pca_a = PCA(n_components=embedding_size // 2)\n",
    "        sc_l = StandardScaler()\n",
    "        pca_l = PCA(n_components=embedding_size // 2)\n",
    "        train_dataset = LexicalAndAcousticDataset(train_lexical_data, train_acoustic_data, lexical_file, acoustic_file, pca_l, sc_l, pca_a, sc_a, False)\n",
    "        val_dataset = LexicalAndAcousticDataset(val_lexical_data, val_acoustic_data, lexical_file, acoustic_file, pca_l, sc_l, pca_a, sc_a, True)\n",
    "        train_loader = DataLoader(train_dataset, batch_size=train_batch_size, shuffle=True)\n",
    "        val_loader = DataLoader(val_dataset, batch_size=12)\n",
    "        yield train_loader, val_loader"
   ]
  },
  {
   "cell_type": "code",
   "execution_count": 38,
   "metadata": {},
   "outputs": [],
   "source": [
    "def run_one_fold(train_loader, val_loader, num_epochs, embedding_size):\n",
    "    model = LexicalAndAcousticClassifier(embedding_size)\n",
    "    model.to(device)\n",
    "    learning_rate = 1e-3\n",
    "    criterion = torch.nn.CrossEntropyLoss()\n",
    "    optimizer = torch.optim.Adam(model.parameters(), lr=learning_rate)\n",
    "    train(model, train_loader, criterion, optimizer, num_epochs)\n",
    "    return eval(model, val_loader)"
   ]
  },
  {
   "cell_type": "code",
   "execution_count": 39,
   "metadata": {},
   "outputs": [],
   "source": [
    "def get_model_accuracy(lexical_file, acoustic_file, train_batch_size, num_epochs, embedding_size = 96):\n",
    "    accuracies = []\n",
    "    for train_loader, val_loader in kfold(lexical_file, acoustic_file, train_batch_size, embedding_size):\n",
    "        accuracies.append(run_one_fold(train_loader, val_loader, num_epochs, embedding_size))\n",
    "    return sum(accuracies) / len(accuracies)"
   ]
  },
  {
   "cell_type": "code",
   "execution_count": 66,
   "metadata": {},
   "outputs": [
    {
     "data": {
      "text/plain": [
       "0.55"
      ]
     },
     "execution_count": 66,
     "metadata": {},
     "output_type": "execute_result"
    }
   ],
   "source": [
    "# Model accuracy for bert-base-uncased and hubert-large-ls960-ft \n",
    "get_model_accuracy('../../embeddings/transcript_features_1.pkl', '../../embeddings/acoustic_features_1.pkl', 4, 20, 64)"
   ]
  },
  {
   "cell_type": "code",
   "execution_count": 67,
   "metadata": {},
   "outputs": [
    {
     "data": {
      "text/plain": [
       "0.6249999999999999"
      ]
     },
     "execution_count": 67,
     "metadata": {},
     "output_type": "execute_result"
    }
   ],
   "source": [
    "# Model accuracy for bert-base-cased-finetuned-emotion and hubert-large-ls960-ft \n",
    "get_model_accuracy('../../embeddings/transcript_features_2.pkl', '../../embeddings/acoustic_features_1.pkl', 4, 20, 64)"
   ]
  },
  {
   "cell_type": "code",
   "execution_count": 68,
   "metadata": {},
   "outputs": [
    {
     "data": {
      "text/plain": [
       "0.6083333333333333"
      ]
     },
     "execution_count": 68,
     "metadata": {},
     "output_type": "execute_result"
    }
   ],
   "source": [
    "# Model accuracy for transformersbook/distilbert-base-uncased-finetuned-emotion and hubert-large-ls960-ft \n",
    "get_model_accuracy('../../embeddings/transcript_features_3.pkl', '../../embeddings/acoustic_features_1.pkl', 4, 20, 64)"
   ]
  },
  {
   "cell_type": "code",
   "execution_count": 69,
   "metadata": {},
   "outputs": [
    {
     "data": {
      "text/plain": [
       "0.5416666666666666"
      ]
     },
     "execution_count": 69,
     "metadata": {},
     "output_type": "execute_result"
    }
   ],
   "source": [
    "# Model accuracy for mpNet and hubert-large-ls960-ft \n",
    "get_model_accuracy('../../embeddings/transcript_features_6.pkl', '../../embeddings/acoustic_features_1.pkl', 4, 20, 64)"
   ]
  }
 ],
 "metadata": {
  "kernelspec": {
   "display_name": "Python 3",
   "language": "python",
   "name": "python3"
  },
  "language_info": {
   "codemirror_mode": {
    "name": "ipython",
    "version": 3
   },
   "file_extension": ".py",
   "mimetype": "text/x-python",
   "name": "python",
   "nbconvert_exporter": "python",
   "pygments_lexer": "ipython3",
   "version": "3.9.16"
  },
  "orig_nbformat": 4
 },
 "nbformat": 4,
 "nbformat_minor": 2
}
