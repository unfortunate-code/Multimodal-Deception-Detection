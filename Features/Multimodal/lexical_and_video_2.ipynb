{
 "cells": [
  {
   "cell_type": "code",
   "execution_count": 1,
   "metadata": {},
   "outputs": [],
   "source": [
    "import torch\n",
    "import os\n",
    "import pickle\n",
    "from tqdm import tqdm\n",
    "import numpy as np\n",
    "from torch.utils.data import Dataset, DataLoader\n",
    "from sklearn.preprocessing import StandardScaler\n",
    "from sklearn.decomposition import PCA"
   ]
  },
  {
   "cell_type": "code",
   "execution_count": 2,
   "metadata": {},
   "outputs": [],
   "source": [
    "class LexicalAndVideoClassifier(torch.nn.Module):\n",
    "    def __init__(self, embedding_size):\n",
    "        super(LexicalAndVideoClassifier, self).__init__()\n",
    "        self.linear1 = torch.nn.Linear(embedding_size, 16)\n",
    "        self.linear2 = torch.nn.Linear(16, 2)\n",
    "        torch.nn.init.kaiming_uniform_(self.linear1.weight)\n",
    "        torch.nn.init.xavier_uniform_(self.linear2.weight)\n",
    "    \n",
    "    def forward(self, x):\n",
    "        x = self.linear1(torch.nn.functional.relu(x))\n",
    "        return self.linear2(torch.nn.functional.relu(x))"
   ]
  },
  {
   "cell_type": "code",
   "execution_count": 3,
   "metadata": {},
   "outputs": [],
   "source": [
    "class LexicalAndVideoDataset(Dataset):\n",
    "    def __init__(self, lexical_data, video_data, labels, lexical_file, video_file, pca_l, sc_l, pca_v, sc_v, test):\n",
    "        self.lexical_embeddings = []\n",
    "        self.labels = []\n",
    "        with open(lexical_file, 'rb') as f:\n",
    "            self.embedding_map = pickle.load(f)\n",
    "        for file in lexical_data:\n",
    "            embedding = self.embedding_map[file.split('.')[0]]\n",
    "            if type(embedding) == np.ndarray:\n",
    "                self.lexical_embeddings.append(embedding)\n",
    "            else:\n",
    "                self.lexical_embeddings.append(embedding.numpy())\n",
    "        self.lexical_embeddings = np.array(self.lexical_embeddings)\n",
    "        with open(video_file, 'rb') as f:\n",
    "            embeddings_map = pickle.load(f)\n",
    "        self.video_embeddings = np.array([embeddings_map[file.split('.')[0]].numpy() for file in video_data])\n",
    "        if not test:\n",
    "            self.lexical_embeddings = sc_l.fit_transform(self.lexical_embeddings)\n",
    "            self.lexical_embeddings = pca_l.fit_transform(self.lexical_embeddings)\n",
    "            self.video_embeddings = sc_v.fit_transform(self.video_embeddings)\n",
    "            self.video_embeddings = pca_v.fit_transform(self.video_embeddings)\n",
    "        else:\n",
    "            self.lexical_embeddings = sc_l.transform(self.lexical_embeddings)\n",
    "            self.lexical_embeddings = pca_l.transform(self.lexical_embeddings)\n",
    "            self.video_embeddings = sc_v.transform(self.video_embeddings)\n",
    "            self.video_embeddings = pca_v.transform(self.video_embeddings)\n",
    "        self.lexical_embeddings = torch.from_numpy(self.lexical_embeddings).float()\n",
    "        self.video_embeddings = torch.from_numpy(self.video_embeddings).float()\n",
    "        self.labels = labels\n",
    "    \n",
    "    def __len__(self):\n",
    "        return len(self.labels)\n",
    "\n",
    "    def __getitem__(self, index):\n",
    "        return torch.concat((self.lexical_embeddings[index], self.video_embeddings[index])), self.labels[index]"
   ]
  },
  {
   "cell_type": "code",
   "execution_count": 4,
   "metadata": {},
   "outputs": [],
   "source": [
    "device = torch.device('cuda' if torch.cuda.is_available() else 'cpu')"
   ]
  },
  {
   "cell_type": "code",
   "execution_count": 5,
   "metadata": {},
   "outputs": [],
   "source": [
    "def train(model, train_loader, criterion, optimizer, num_epochs):\n",
    "    for _ in range(num_epochs):\n",
    "        model.train()\n",
    "        for x, y in train_loader:\n",
    "            x = x.to(device)\n",
    "            y = y.to(device)\n",
    "            out = model(x)\n",
    "            loss = criterion(out, y)\n",
    "            optimizer.zero_grad()\n",
    "            loss.backward()\n",
    "            optimizer.step()"
   ]
  },
  {
   "cell_type": "code",
   "execution_count": 6,
   "metadata": {},
   "outputs": [],
   "source": [
    "def eval(model, val_loader):\n",
    "    model.eval()\n",
    "    with torch.no_grad():\n",
    "        correct = 0\n",
    "        total = 0\n",
    "        for x, y in val_loader:\n",
    "            x = x.to(device)\n",
    "            y = y.to(device)\n",
    "            out = model(x)\n",
    "            _, predicted = torch.max(out.data, 1)\n",
    "            total += y.size(0)\n",
    "            correct += (predicted == y).sum().item()\n",
    "        return correct / total"
   ]
  },
  {
   "cell_type": "code",
   "execution_count": 7,
   "metadata": {},
   "outputs": [],
   "source": [
    "def get_lexical_data(TRUTH_DIR, DECEPTION_DIR):\n",
    "    data = []\n",
    "    for file in os.listdir(TRUTH_DIR):\n",
    "        data.append(file)\n",
    "    for file in os.listdir(DECEPTION_DIR):\n",
    "        data.append(file)\n",
    "    return data"
   ]
  },
  {
   "cell_type": "code",
   "execution_count": 32,
   "metadata": {},
   "outputs": [],
   "source": [
    "train_video_data = []\n",
    "train_labels = []\n",
    "for file in os.listdir('../../data/Clips/Truthful/'):\n",
    "    train_video_data.append(file.split('.')[0])\n",
    "    train_labels.append(0)\n",
    "for file in os.listdir('../../data/Clips/Deceptive/'):\n",
    "    train_video_data.append(file.split('.')[0])\n",
    "    train_labels.append(1)\n",
    "\n",
    "test_video_data = []\n",
    "test_labels = []\n",
    "for file in os.listdir('../../Dataset2/Videos/Truth/'):\n",
    "    key = file.split('.')[0]\n",
    "    key = '-'.join(key.split('-')[:3])\n",
    "    test_video_data.append(key)\n",
    "    test_labels.append(0)\n",
    "for file in os.listdir('../../Dataset2/Videos/Lie/'):\n",
    "    key = file.split('.')[0]\n",
    "    key = '-'.join(key.split('-')[:3])\n",
    "    test_video_data.append(key)\n",
    "    test_labels.append(1)\n",
    "\n",
    "train_lexical_data = get_lexical_data('../../data/Transcription/Truthful/', '../../data/Transcription/Deceptive/')\n",
    "test_lexical_data = get_lexical_data('../../Dataset2/Text/Truth/', '../../Dataset2/Text/Lie/')"
   ]
  },
  {
   "cell_type": "code",
   "execution_count": 33,
   "metadata": {},
   "outputs": [],
   "source": [
    "def get_accuracy(train_lexical_file, train_acoustic_file, test_lexical_file, test_acoustic_file, embedding_size, train_batch_size, num_epochs):\n",
    "    sc_v = StandardScaler()\n",
    "    pca_v = PCA(n_components=embedding_size // 2)\n",
    "    sc_l = StandardScaler()\n",
    "    pca_l = PCA(n_components=embedding_size // 2)\n",
    "    train_dataset = LexicalAndVideoDataset(train_lexical_data, train_video_data, train_labels, train_lexical_file, train_acoustic_file, pca_l, sc_l, pca_v, sc_v, False)\n",
    "    test_dataset = LexicalAndVideoDataset(test_lexical_data, test_video_data, test_labels, test_lexical_file, test_acoustic_file, pca_l, sc_l, pca_v, sc_v, True)\n",
    "    model = LexicalAndVideoClassifier(embedding_size).to(device)\n",
    "    train_loader = DataLoader(train_dataset, batch_size=train_batch_size, shuffle=True)\n",
    "    test_loader = DataLoader(test_dataset, batch_size=32, shuffle=False)\n",
    "    learning_rate = 1e-3\n",
    "    criterion = torch.nn.CrossEntropyLoss()\n",
    "    optimizer = torch.optim.Adam(model.parameters(), lr=learning_rate)\n",
    "    train(model, train_loader, criterion, optimizer, num_epochs)\n",
    "    return eval(model, test_loader)"
   ]
  },
  {
   "cell_type": "code",
   "execution_count": 34,
   "metadata": {},
   "outputs": [
    {
     "data": {
      "text/plain": [
       "0.4697986577181208"
      ]
     },
     "execution_count": 34,
     "metadata": {},
     "output_type": "execute_result"
    }
   ],
   "source": [
    "# Model accuracy for bert-base-uncased and resnet-3d-18\n",
    "get_accuracy('../../embeddings/transcript_features_1.pkl', '../../embeddings/visual_features.pkl', '../../embeddings2/transcript_features_1.pkl', '../../embeddings2/visual_features.pkl', 64, 4, 20)"
   ]
  },
  {
   "cell_type": "code",
   "execution_count": 35,
   "metadata": {},
   "outputs": [
    {
     "data": {
      "text/plain": [
       "0.46308724832214765"
      ]
     },
     "execution_count": 35,
     "metadata": {},
     "output_type": "execute_result"
    }
   ],
   "source": [
    "# Model accuracy for bert-base-uncased and resnet-3d-18\n",
    "get_accuracy('../../embeddings/transcript_features_1.pkl', '../../embeddings/visual_features.pkl', '../../embeddings2/transcript_features_1.pkl', '../../embeddings2/visual_features.pkl', 96, 4, 20)"
   ]
  },
  {
   "cell_type": "code",
   "execution_count": 36,
   "metadata": {},
   "outputs": [
    {
     "data": {
      "text/plain": [
       "0.5033557046979866"
      ]
     },
     "execution_count": 36,
     "metadata": {},
     "output_type": "execute_result"
    }
   ],
   "source": [
    "# Model accuracy for bert-base-cased-finetuned-emotion and resnet-3d-18\n",
    "get_accuracy('../../embeddings/transcript_features_2.pkl', '../../embeddings/visual_features.pkl', '../../embeddings2/transcript_features_2.pkl', '../../embeddings2/visual_features.pkl', 96, 4, 40)"
   ]
  },
  {
   "cell_type": "code",
   "execution_count": 37,
   "metadata": {},
   "outputs": [
    {
     "data": {
      "text/plain": [
       "0.5100671140939598"
      ]
     },
     "execution_count": 37,
     "metadata": {},
     "output_type": "execute_result"
    }
   ],
   "source": [
    "# Model accuracy for bert-base-cased-finetuned-emotion and resnet-3d-18\n",
    "get_accuracy('../../embeddings/transcript_features_2.pkl', '../../embeddings/visual_features.pkl', '../../embeddings2/transcript_features_2.pkl', '../../embeddings2/visual_features.pkl', 64, 4, 40)"
   ]
  },
  {
   "cell_type": "code",
   "execution_count": 38,
   "metadata": {},
   "outputs": [
    {
     "data": {
      "text/plain": [
       "0.5369127516778524"
      ]
     },
     "execution_count": 38,
     "metadata": {},
     "output_type": "execute_result"
    }
   ],
   "source": [
    "# Model accuracy for transformersbook/distilbert-base-uncased-finetuned-emotion and resnet-3d-18\n",
    "get_accuracy('../../embeddings/transcript_features_3.pkl', '../../embeddings/visual_features.pkl', '../../embeddings2/transcript_features_3.pkl', '../../embeddings2/visual_features.pkl', 64, 4, 20)"
   ]
  },
  {
   "cell_type": "code",
   "execution_count": 39,
   "metadata": {},
   "outputs": [
    {
     "data": {
      "text/plain": [
       "0.5234899328859061"
      ]
     },
     "execution_count": 39,
     "metadata": {},
     "output_type": "execute_result"
    }
   ],
   "source": [
    "# Model accuracy for mpNet and resnet-3d-18\n",
    "get_accuracy('../../embeddings/transcript_features_6.pkl', '../../embeddings/visual_features.pkl', '../../embeddings2/transcript_features_6.pkl', '../../embeddings2/visual_features.pkl', 64, 4, 20)"
   ]
  },
  {
   "cell_type": "code",
   "execution_count": 40,
   "metadata": {},
   "outputs": [
    {
     "data": {
      "text/plain": [
       "0.4966442953020134"
      ]
     },
     "execution_count": 40,
     "metadata": {},
     "output_type": "execute_result"
    }
   ],
   "source": [
    "# Model accuracy for mpNet and resnet-3d-18\n",
    "get_accuracy('../../embeddings/transcript_features_6.pkl', '../../embeddings/visual_features.pkl', '../../embeddings2/transcript_features_6.pkl', '../../embeddings2/visual_features.pkl', 96, 4, 20)"
   ]
  },
  {
   "cell_type": "code",
   "execution_count": 41,
   "metadata": {},
   "outputs": [
    {
     "data": {
      "text/plain": [
       "0.5100671140939598"
      ]
     },
     "execution_count": 41,
     "metadata": {},
     "output_type": "execute_result"
    }
   ],
   "source": [
    "# Model accuracy for mpNet and resnet-3d-18\n",
    "get_accuracy('../../embeddings/transcript_features_6.pkl', '../../embeddings/visual_features.pkl', '../../embeddings2/transcript_features_6.pkl', '../../embeddings2/visual_features.pkl', 96, 4, 40)"
   ]
  }
 ],
 "metadata": {
  "kernelspec": {
   "display_name": "Python 3",
   "language": "python",
   "name": "python3"
  },
  "language_info": {
   "codemirror_mode": {
    "name": "ipython",
    "version": 3
   },
   "file_extension": ".py",
   "mimetype": "text/x-python",
   "name": "python",
   "nbconvert_exporter": "python",
   "pygments_lexer": "ipython3",
   "version": "3.9.16"
  },
  "orig_nbformat": 4
 },
 "nbformat": 4,
 "nbformat_minor": 2
}
