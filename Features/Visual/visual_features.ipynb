{
 "cells": [
  {
   "cell_type": "code",
   "execution_count": 1,
   "metadata": {},
   "outputs": [],
   "source": [
    "import torch\n",
    "import os\n",
    "import pickle\n",
    "from tqdm import tqdm\n",
    "import numpy as np\n",
    "from torch.utils.data import Dataset, DataLoader\n",
    "from sklearn.preprocessing import StandardScaler\n",
    "from sklearn.decomposition import PCA"
   ]
  },
  {
   "cell_type": "code",
   "execution_count": 32,
   "metadata": {},
   "outputs": [],
   "source": [
    "EMBEDDINGS_PATH = '../../embeddings/visual_embeddings/'\n",
    "EMBEDDINGS_FILES = os.listdir(EMBEDDINGS_PATH)\n",
    "embeddings_map = {}\n",
    "for file in EMBEDDINGS_FILES:\n",
    "    with open(EMBEDDINGS_PATH + file, 'rb') as f:\n",
    "        embeddings_map[file.split('.')[0]] = pickle.load(f).squeeze()\n",
    "with open('../../embeddings/visual_features.pkl', 'wb') as f:\n",
    "    pickle.dump(embeddings_map, f)"
   ]
  },
  {
   "cell_type": "code",
   "execution_count": 33,
   "metadata": {},
   "outputs": [],
   "source": [
    "TRUTHFUL_PATH = '../../data/Clips/Truthful/'\n",
    "DECEPTIVE_PATH = '../../data/Clips/Deceptive/'\n",
    "TRUTHFUL_FILES = os.listdir(TRUTHFUL_PATH)\n",
    "DECEPTIVE_FILES = os.listdir(DECEPTIVE_PATH)"
   ]
  },
  {
   "cell_type": "code",
   "execution_count": 34,
   "metadata": {},
   "outputs": [],
   "source": [
    "class VisualClassifier(torch.nn.Module):\n",
    "    def __init__(self, embedding_size):\n",
    "        super(VisualClassifier, self).__init__()\n",
    "        self.linear1 = torch.nn.Linear(embedding_size, 64)\n",
    "        self.linear2 = torch.nn.Linear(64, 2)\n",
    "        # Xavier initialize the linear layer\n",
    "        torch.nn.init.kaiming_uniform_(self.linear1.weight)\n",
    "        torch.nn.init.xavier_uniform_(self.linear2.weight)\n",
    "    \n",
    "    def forward(self, x):\n",
    "        x = self.linear1(torch.nn.functional.relu(x))\n",
    "        return self.linear2(torch.nn.functional.relu(x))"
   ]
  },
  {
   "cell_type": "code",
   "execution_count": 35,
   "metadata": {},
   "outputs": [],
   "source": [
    "class VisualClassifierPCA(torch.nn.Module):\n",
    "    def __init__(self, embedding_size):\n",
    "        super(VisualClassifierPCA, self).__init__()\n",
    "        self.linear1 = torch.nn.Linear(embedding_size, 16)\n",
    "        self.linear2 = torch.nn.Linear(16, 2)\n",
    "        # Xavier initialize the linear layer\n",
    "        torch.nn.init.kaiming_uniform_(self.linear1.weight)\n",
    "        torch.nn.init.xavier_uniform_(self.linear2.weight)\n",
    "    \n",
    "    def forward(self, x):\n",
    "        x = self.linear1(torch.nn.functional.relu(x))\n",
    "        return self.linear2(torch.nn.functional.relu(x))"
   ]
  },
  {
   "cell_type": "code",
   "execution_count": 36,
   "metadata": {},
   "outputs": [],
   "source": [
    "class VisualDataset(Dataset):\n",
    "    def __init__(self, data, embeddings_file):\n",
    "        with open(embeddings_file, 'rb') as f:\n",
    "            embeddings_map = pickle.load(f)\n",
    "        self.data = [embeddings_map[file.split('.')[0]] for file in data]\n",
    "        self.labels = [0 if file.split('_')[1] == 'truth' else 1 for file in data]\n",
    "    \n",
    "    def __len__(self):\n",
    "        return len(self.data)\n",
    "    \n",
    "    def __getitem__(self, index):\n",
    "        return self.data[index], self.labels[index]"
   ]
  },
  {
   "cell_type": "code",
   "execution_count": 52,
   "metadata": {},
   "outputs": [],
   "source": [
    "class VisualDatasetPCA(Dataset):\n",
    "    def __init__(self, data, embeddings_file, pca, sc, test=False):\n",
    "        with open(embeddings_file, 'rb') as f:\n",
    "            embeddings_map = pickle.load(f)\n",
    "        self.data = np.array([embeddings_map[file.split('.')[0]].numpy() for file in data])\n",
    "        if not test:\n",
    "            self.data = sc.fit_transform(self.data)\n",
    "            self.data = pca.fit_transform(self.data)\n",
    "        else:\n",
    "            self.data = sc.transform(self.data)\n",
    "            self.data = pca.transform(self.data)\n",
    "        self.data = torch.from_numpy(self.data).float()\n",
    "        self.labels = [0 if file.split('_')[1] == 'truth' else 1 for file in data]\n",
    "    \n",
    "    def __len__(self):\n",
    "        return len(self.data)\n",
    "    \n",
    "    def __getitem__(self, index):\n",
    "        return self.data[index], self.labels[index]"
   ]
  },
  {
   "cell_type": "code",
   "execution_count": 38,
   "metadata": {},
   "outputs": [],
   "source": [
    "device = torch.device('cuda' if torch.cuda.is_available() else 'cpu')"
   ]
  },
  {
   "cell_type": "code",
   "execution_count": 40,
   "metadata": {},
   "outputs": [],
   "source": [
    "def train(model, train_loader, criterion, optimizer, num_epochs):\n",
    "    for _ in range(num_epochs):\n",
    "        model.train()\n",
    "        for x, y in train_loader:\n",
    "            x = x.to(device)\n",
    "            y = y.to(device)\n",
    "            out = model(x)\n",
    "            loss = criterion(out, y)\n",
    "            optimizer.zero_grad()\n",
    "            loss.backward()\n",
    "            optimizer.step()"
   ]
  },
  {
   "cell_type": "code",
   "execution_count": 41,
   "metadata": {},
   "outputs": [],
   "source": [
    "def eval(model, val_loader):\n",
    "    model.eval()\n",
    "    with torch.no_grad():\n",
    "        correct = 0\n",
    "        total = 0\n",
    "        for x, y in val_loader:\n",
    "            x = x.to(device)\n",
    "            y = y.to(device)\n",
    "            out = model(x)\n",
    "            _, predicted = torch.max(out.data, 1)\n",
    "            total += y.size(0)\n",
    "            correct += (predicted == y).sum().item()\n",
    "        return correct / total"
   ]
  },
  {
   "cell_type": "code",
   "execution_count": 42,
   "metadata": {},
   "outputs": [],
   "source": [
    "def kfold(embeddings_map_file, train_batch_size, do_pca, embedding_size):\n",
    "    truthful_data = list(TRUTHFUL_FILES)\n",
    "    deceptive_data = list(DECEPTIVE_FILES)\n",
    "    for i in range(10):\n",
    "        val_data = truthful_data[i*6:(i+1)*6] + deceptive_data[i*6:(i+1)*6]\n",
    "        train_data = truthful_data[:i*6] + truthful_data[(i+1)*6:] + deceptive_data[:i*6] + deceptive_data[(i+1)*6:]\n",
    "        if not do_pca:\n",
    "            train_dataset = VisualDataset(train_data, embeddings_map_file)\n",
    "            val_dataset = VisualDataset(val_data, embeddings_map_file)\n",
    "        else:\n",
    "            sc = StandardScaler()\n",
    "            pca = PCA(n_components=embedding_size)\n",
    "            train_dataset = VisualDatasetPCA(train_data, embeddings_map_file, pca, sc)\n",
    "            val_dataset = VisualDatasetPCA(val_data, embeddings_map_file, pca, sc, test=True)\n",
    "        train_loader = DataLoader(train_dataset, batch_size=train_batch_size, shuffle=True)\n",
    "        val_loader = DataLoader(val_dataset, batch_size=12)\n",
    "        yield train_loader, val_loader"
   ]
  },
  {
   "cell_type": "code",
   "execution_count": 43,
   "metadata": {},
   "outputs": [],
   "source": [
    "def run_one_fold(train_loader, val_loader, num_epochs, embedding_size, do_pca):\n",
    "    if not do_pca:\n",
    "        model = VisualClassifier(embedding_size)\n",
    "    else:\n",
    "        model = VisualClassifierPCA(embedding_size)\n",
    "    model.to(device)\n",
    "    learning_rate = 1e-3\n",
    "    criterion = torch.nn.CrossEntropyLoss()\n",
    "    optimizer = torch.optim.Adam(model.parameters(), lr=learning_rate)\n",
    "    train(model, train_loader, criterion, optimizer, num_epochs)\n",
    "    return eval(model, val_loader)"
   ]
  },
  {
   "cell_type": "code",
   "execution_count": 44,
   "metadata": {},
   "outputs": [],
   "source": [
    "def get_model_accuracy(embeddings_map_file, train_batch_size, num_epochs, embedding_size = 512, do_pca = False):\n",
    "    accuracies = []\n",
    "    for train_loader, val_loader in kfold(embeddings_map_file, train_batch_size, do_pca, embedding_size):\n",
    "        accuracies.append(run_one_fold(train_loader, val_loader, num_epochs, embedding_size, do_pca))\n",
    "    return sum(accuracies) / len(accuracies)"
   ]
  },
  {
   "cell_type": "code",
   "execution_count": 45,
   "metadata": {},
   "outputs": [
    {
     "data": {
      "text/plain": [
       "0.5"
      ]
     },
     "execution_count": 45,
     "metadata": {},
     "output_type": "execute_result"
    }
   ],
   "source": [
    "# Model accuracy for resnet-3d-18\n",
    "get_model_accuracy('../../embeddings/visual_features.pkl', 4, 40)"
   ]
  },
  {
   "cell_type": "code",
   "execution_count": 55,
   "metadata": {},
   "outputs": [
    {
     "data": {
      "text/plain": [
       "0.5"
      ]
     },
     "execution_count": 55,
     "metadata": {},
     "output_type": "execute_result"
    }
   ],
   "source": [
    "# Model accuracy for resnet-3d-18\n",
    "get_model_accuracy('../../embeddings/visual_features.pkl', 4, 20)"
   ]
  },
  {
   "cell_type": "code",
   "execution_count": 53,
   "metadata": {},
   "outputs": [
    {
     "data": {
      "text/plain": [
       "0.5916666666666666"
      ]
     },
     "execution_count": 53,
     "metadata": {},
     "output_type": "execute_result"
    }
   ],
   "source": [
    "# Model accuracy for resnet-3d-18 with pca\n",
    "get_model_accuracy('../../embeddings/visual_features.pkl', 4, 40, 64, True)"
   ]
  },
  {
   "cell_type": "code",
   "execution_count": 54,
   "metadata": {},
   "outputs": [
    {
     "data": {
      "text/plain": [
       "0.575"
      ]
     },
     "execution_count": 54,
     "metadata": {},
     "output_type": "execute_result"
    }
   ],
   "source": [
    "# Model accuracy for resnet-3d-18 with pca\n",
    "get_model_accuracy('../../embeddings/visual_features.pkl', 4, 20, 64, True)"
   ]
  },
  {
   "cell_type": "code",
   "execution_count": 56,
   "metadata": {},
   "outputs": [
    {
     "data": {
      "text/plain": [
       "0.5833333333333334"
      ]
     },
     "execution_count": 56,
     "metadata": {},
     "output_type": "execute_result"
    }
   ],
   "source": [
    "# Model accuracy for resnet-3d-18 with pca\n",
    "get_model_accuracy('../../embeddings/visual_features.pkl', 2, 40, 64, True)"
   ]
  }
 ],
 "metadata": {
  "kernelspec": {
   "display_name": "Python 3",
   "language": "python",
   "name": "python3"
  },
  "language_info": {
   "codemirror_mode": {
    "name": "ipython",
    "version": 3
   },
   "file_extension": ".py",
   "mimetype": "text/x-python",
   "name": "python",
   "nbconvert_exporter": "python",
   "pygments_lexer": "ipython3",
   "version": "3.9.16"
  },
  "orig_nbformat": 4
 },
 "nbformat": 4,
 "nbformat_minor": 2
}
