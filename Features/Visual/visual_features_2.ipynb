{
 "cells": [
  {
   "cell_type": "code",
   "execution_count": 2,
   "metadata": {},
   "outputs": [],
   "source": [
    "import torch\n",
    "import os\n",
    "import pickle\n",
    "from tqdm import tqdm\n",
    "import numpy as np\n",
    "from torch.utils.data import Dataset, DataLoader\n",
    "from sklearn.preprocessing import StandardScaler\n",
    "from sklearn.decomposition import PCA"
   ]
  },
  {
   "cell_type": "code",
   "execution_count": 2,
   "metadata": {},
   "outputs": [
    {
     "name": "stderr",
     "output_type": "stream",
     "text": [
      "100%|██████████| 149/149 [00:00<00:00, 2328.26it/s]\n"
     ]
    }
   ],
   "source": [
    "DIR = '../../embeddings2/Visualfeatures/'\n",
    "files = os.listdir(DIR)\n",
    "embeddings_map = {}\n",
    "for file in tqdm(files):\n",
    "    with open(DIR + file, 'rb') as f:\n",
    "        key = file.split('.')[0]\n",
    "        key = '-'.join(key.split('-')[:3])\n",
    "        embeddings_map[key] = pickle.load(f).squeeze()\n",
    "with open('../../embeddings2/visual_features.pkl', 'wb') as f:\n",
    "    pickle.dump(embeddings_map, f)"
   ]
  },
  {
   "cell_type": "code",
   "execution_count": 3,
   "metadata": {},
   "outputs": [
    {
     "name": "stderr",
     "output_type": "stream",
     "text": [
      "100%|██████████| 149/149 [00:01<00:00, 116.42it/s]\n"
     ]
    }
   ],
   "source": [
    "DIR = '../../embeddings2/DeepIDfeatures_cache2/'\n",
    "files = os.listdir(DIR)\n",
    "embeddings_map = {}\n",
    "for file in tqdm(files):\n",
    "    with open(DIR + file, 'rb') as f:\n",
    "        key = file.split('.')[0]\n",
    "        key = '-'.join(key.split('-')[:3])\n",
    "        embeddings_map[key] = torch.mean(pickle.load(f).squeeze(), dim=0).float()\n",
    "with open('../../embeddings2/visual_features_2.pkl', 'wb') as f:\n",
    "    pickle.dump(embeddings_map, f)"
   ]
  },
  {
   "cell_type": "code",
   "execution_count": 4,
   "metadata": {},
   "outputs": [
    {
     "name": "stderr",
     "output_type": "stream",
     "text": [
      "100%|██████████| 149/149 [00:01<00:00, 141.46it/s]\n"
     ]
    }
   ],
   "source": [
    "DIR = '../../embeddings2/Facenetfeatures_cache2/'\n",
    "files = os.listdir(DIR)\n",
    "embeddings_map = {}\n",
    "for file in tqdm(files):\n",
    "    with open(DIR + file, 'rb') as f:\n",
    "        key = file.split('.')[0]\n",
    "        key = '-'.join(key.split('-')[:3])\n",
    "        embeddings_map[key] = torch.mean(pickle.load(f).squeeze(), dim=0).float()\n",
    "with open('../../embeddings2/visual_features_3.pkl', 'wb') as f:\n",
    "    pickle.dump(embeddings_map, f)"
   ]
  },
  {
   "cell_type": "code",
   "execution_count": 5,
   "metadata": {},
   "outputs": [
    {
     "name": "stderr",
     "output_type": "stream",
     "text": [
      "100%|██████████| 149/149 [00:01<00:00, 108.72it/s]\n"
     ]
    }
   ],
   "source": [
    "DIR = '../../embeddings2/OpenFacefeatures_cache2/'\n",
    "files = os.listdir(DIR)\n",
    "embeddings_map = {}\n",
    "for file in tqdm(files):\n",
    "    with open(DIR + file, 'rb') as f:\n",
    "        key = file.split('.')[0]\n",
    "        key = '-'.join(key.split('-')[:3])\n",
    "        embeddings_map[key] = torch.mean(pickle.load(f).squeeze(), dim=0).float()\n",
    "with open('../../embeddings2/visual_features_4.pkl', 'wb') as f:\n",
    "    pickle.dump(embeddings_map, f)"
   ]
  },
  {
   "cell_type": "code",
   "execution_count": 7,
   "metadata": {},
   "outputs": [
    {
     "name": "stderr",
     "output_type": "stream",
     "text": [
      "100%|██████████| 149/149 [00:01<00:00, 78.91it/s]\n"
     ]
    }
   ],
   "source": [
    "DIR = '../../embeddings2/VGG-Facefeatures_cache2/'\n",
    "files = os.listdir(DIR)\n",
    "embeddings_map = {}\n",
    "for file in tqdm(files):\n",
    "    with open(DIR + file, 'rb') as f:\n",
    "        key = file.split('.')[0]\n",
    "        key = '-'.join(key.split('-')[:3])\n",
    "        embeddings_map[key] = torch.mean(pickle.load(f).squeeze(), dim=0).float()\n",
    "with open('../../embeddings2/visual_features_5.pkl', 'wb') as f:\n",
    "    pickle.dump(embeddings_map, f)"
   ]
  },
  {
   "cell_type": "code",
   "execution_count": 9,
   "metadata": {},
   "outputs": [],
   "source": [
    "class VisualClassifier(torch.nn.Module):\n",
    "    def __init__(self, embedding_size):\n",
    "        super(VisualClassifier, self).__init__()\n",
    "        self.linear1 = torch.nn.Linear(embedding_size, 64)\n",
    "        self.linear2 = torch.nn.Linear(64, 2)\n",
    "        # Xavier initialize the linear layer\n",
    "        torch.nn.init.kaiming_uniform_(self.linear1.weight)\n",
    "        torch.nn.init.xavier_uniform_(self.linear2.weight)\n",
    "    \n",
    "    def forward(self, x):\n",
    "        x = self.linear1(torch.nn.functional.relu(x))\n",
    "        return self.linear2(torch.nn.functional.relu(x))"
   ]
  },
  {
   "cell_type": "code",
   "execution_count": 10,
   "metadata": {},
   "outputs": [],
   "source": [
    "class VisualClassifierPCA(torch.nn.Module):\n",
    "    def __init__(self, embedding_size):\n",
    "        super(VisualClassifierPCA, self).__init__()\n",
    "        self.linear1 = torch.nn.Linear(embedding_size, 16)\n",
    "        self.linear2 = torch.nn.Linear(16, 2)\n",
    "        # Xavier initialize the linear layer\n",
    "        torch.nn.init.kaiming_uniform_(self.linear1.weight)\n",
    "        torch.nn.init.xavier_uniform_(self.linear2.weight)\n",
    "    \n",
    "    def forward(self, x):\n",
    "        x = self.linear1(torch.nn.functional.relu(x))\n",
    "        return self.linear2(torch.nn.functional.relu(x))"
   ]
  },
  {
   "cell_type": "code",
   "execution_count": 11,
   "metadata": {},
   "outputs": [],
   "source": [
    "class VisualDataset(Dataset):\n",
    "    def __init__(self, data, embeddings_file):\n",
    "        with open(embeddings_file, 'rb') as f:\n",
    "            embeddings_map = pickle.load(f)\n",
    "        self.labels = [x[1] for x in data]\n",
    "        data = [x[0] for x in data]\n",
    "        self.data = [embeddings_map[file] for file in data]\n",
    "    \n",
    "    def __len__(self):\n",
    "        return len(self.data)\n",
    "    \n",
    "    def __getitem__(self, index):\n",
    "        return self.data[index], self.labels[index]"
   ]
  },
  {
   "cell_type": "code",
   "execution_count": 12,
   "metadata": {},
   "outputs": [],
   "source": [
    "class VisualDatasetPCA(Dataset):\n",
    "    def __init__(self, data, embeddings_file, pca, sc, test=False):\n",
    "        with open(embeddings_file, 'rb') as f:\n",
    "            embeddings_map = pickle.load(f)\n",
    "        self.labels = [x[1] for x in data]\n",
    "        data = [x[0] for x in data]\n",
    "        self.data = np.array([embeddings_map[file].numpy() for file in data])\n",
    "        if not test:\n",
    "            self.data = sc.fit_transform(self.data)\n",
    "            self.data = pca.fit_transform(self.data)\n",
    "        else:\n",
    "            self.data = sc.transform(self.data)\n",
    "            self.data = pca.transform(self.data)\n",
    "        self.data = torch.from_numpy(self.data).float()\n",
    "    \n",
    "    def __len__(self):\n",
    "        return len(self.data)\n",
    "    \n",
    "    def __getitem__(self, index):\n",
    "        return self.data[index], self.labels[index]"
   ]
  },
  {
   "cell_type": "code",
   "execution_count": 13,
   "metadata": {},
   "outputs": [],
   "source": [
    "device = torch.device('cuda' if torch.cuda.is_available() else 'cpu')"
   ]
  },
  {
   "cell_type": "code",
   "execution_count": 14,
   "metadata": {},
   "outputs": [],
   "source": [
    "def train(model, train_loader, criterion, optimizer, num_epochs):\n",
    "    for _ in range(num_epochs):\n",
    "        model.train()\n",
    "        for x, y in train_loader:\n",
    "            x = x.to(device)\n",
    "            y = y.to(device)\n",
    "            out = model(x)\n",
    "            loss = criterion(out, y)\n",
    "            optimizer.zero_grad()\n",
    "            loss.backward()\n",
    "            optimizer.step()"
   ]
  },
  {
   "cell_type": "code",
   "execution_count": 15,
   "metadata": {},
   "outputs": [],
   "source": [
    "def eval(model, val_loader):\n",
    "    model.eval()\n",
    "    with torch.no_grad():\n",
    "        correct = 0\n",
    "        total = 0\n",
    "        for x, y in val_loader:\n",
    "            x = x.to(device)\n",
    "            y = y.to(device)\n",
    "            out = model(x)\n",
    "            _, predicted = torch.max(out.data, 1)\n",
    "            total += y.size(0)\n",
    "            correct += (predicted == y).sum().item()\n",
    "        return correct / total"
   ]
  },
  {
   "cell_type": "code",
   "execution_count": 16,
   "metadata": {},
   "outputs": [],
   "source": [
    "train_data = []\n",
    "for file in os.listdir('../../data/Clips/Truthful/'):\n",
    "    train_data.append((file.split('.')[0], 0))\n",
    "for file in os.listdir('../../data/Clips/Deceptive/'):\n",
    "    train_data.append((file.split('.')[0], 1))\n",
    "\n",
    "test_data = []\n",
    "for file in os.listdir('../../Dataset2/Videos/Truth/'):\n",
    "    key = file.split('.')[0]\n",
    "    key = '-'.join(key.split('-')[:3])\n",
    "    test_data.append((key, 0))\n",
    "for file in os.listdir('../../Dataset2/Videos/Lie/'):\n",
    "    key = file.split('.')[0]\n",
    "    key = '-'.join(key.split('-')[:3])\n",
    "    test_data.append((key, 1))"
   ]
  },
  {
   "cell_type": "code",
   "execution_count": 17,
   "metadata": {},
   "outputs": [],
   "source": [
    "def get_accuracy(train_embedding_file, test_embedding_file, do_pca, embedding_size, train_batch_size, num_epochs):\n",
    "    if not do_pca:\n",
    "        train_dataset = VisualDataset(train_data, train_embedding_file)\n",
    "        test_dataset = VisualDataset(test_data, test_embedding_file)\n",
    "        model = VisualClassifier(embedding_size).to(device)\n",
    "    else:\n",
    "        pca = PCA(n_components=embedding_size)\n",
    "        sc = StandardScaler()\n",
    "        train_dataset = VisualDatasetPCA(train_data, train_embedding_file, pca, sc, False)\n",
    "        test_dataset = VisualDatasetPCA(test_data, test_embedding_file, pca, sc, True)\n",
    "        model = VisualClassifierPCA(embedding_size).to(device)\n",
    "    train_loader = DataLoader(train_dataset, batch_size=train_batch_size, shuffle=True)\n",
    "    test_loader = DataLoader(test_dataset, batch_size=32, shuffle=False)\n",
    "    learning_rate = 1e-3\n",
    "    criterion = torch.nn.CrossEntropyLoss()\n",
    "    optimizer = torch.optim.Adam(model.parameters(), lr=learning_rate)\n",
    "    train(model, train_loader, criterion, optimizer, num_epochs)\n",
    "    return eval(model, test_loader)"
   ]
  },
  {
   "cell_type": "code",
   "execution_count": 19,
   "metadata": {},
   "outputs": [
    {
     "data": {
      "text/plain": [
       "0.4966442953020134"
      ]
     },
     "execution_count": 19,
     "metadata": {},
     "output_type": "execute_result"
    }
   ],
   "source": [
    "# Model accuracy for resnet-3d-18\n",
    "get_accuracy('../../embeddings/visual_features.pkl', '../../embeddings2/visual_features.pkl', False, 512, 4, 40)"
   ]
  },
  {
   "cell_type": "code",
   "execution_count": 22,
   "metadata": {},
   "outputs": [
    {
     "data": {
      "text/plain": [
       "0.42953020134228187"
      ]
     },
     "execution_count": 22,
     "metadata": {},
     "output_type": "execute_result"
    }
   ],
   "source": [
    "# Model accuracy for resnet-3d-18 with pca\n",
    "get_accuracy('../../embeddings/visual_features.pkl', '../../embeddings2/visual_features.pkl', True, 64, 4, 40)"
   ]
  },
  {
   "cell_type": "code",
   "execution_count": 18,
   "metadata": {},
   "outputs": [
    {
     "data": {
      "text/plain": [
       "0.4899328859060403"
      ]
     },
     "execution_count": 18,
     "metadata": {},
     "output_type": "execute_result"
    }
   ],
   "source": [
    "# Model accuracy for deep id\n",
    "get_accuracy('../../embeddings/visual_features_2.pkl', '../../embeddings2/visual_features_2.pkl', False, 160, 4, 40)"
   ]
  },
  {
   "cell_type": "code",
   "execution_count": 22,
   "metadata": {},
   "outputs": [
    {
     "data": {
      "text/plain": [
       "0.4966442953020134"
      ]
     },
     "execution_count": 22,
     "metadata": {},
     "output_type": "execute_result"
    }
   ],
   "source": [
    "# Model accuracy for deep id with pca\n",
    "get_accuracy('../../embeddings/visual_features_2.pkl', '../../embeddings2/visual_features_2.pkl', True, 64, 4, 40)"
   ]
  },
  {
   "cell_type": "code",
   "execution_count": 19,
   "metadata": {},
   "outputs": [
    {
     "data": {
      "text/plain": [
       "0.4899328859060403"
      ]
     },
     "execution_count": 19,
     "metadata": {},
     "output_type": "execute_result"
    }
   ],
   "source": [
    "# Model accuracy for facenet\n",
    "get_accuracy('../../embeddings/visual_features_3.pkl', '../../embeddings2/visual_features_3.pkl', False, 128, 4, 40)"
   ]
  },
  {
   "cell_type": "code",
   "execution_count": 23,
   "metadata": {},
   "outputs": [
    {
     "data": {
      "text/plain": [
       "0.5100671140939598"
      ]
     },
     "execution_count": 23,
     "metadata": {},
     "output_type": "execute_result"
    }
   ],
   "source": [
    "# Model accuracy for facenet with pca\n",
    "get_accuracy('../../embeddings/visual_features_3.pkl', '../../embeddings2/visual_features_3.pkl', True, 64, 4, 40)"
   ]
  },
  {
   "cell_type": "code",
   "execution_count": 20,
   "metadata": {},
   "outputs": [
    {
     "data": {
      "text/plain": [
       "0.4228187919463087"
      ]
     },
     "execution_count": 20,
     "metadata": {},
     "output_type": "execute_result"
    }
   ],
   "source": [
    "# Model accuracy for openface\n",
    "get_accuracy('../../embeddings/visual_features_4.pkl', '../../embeddings2/visual_features_4.pkl', False, 128, 4, 40)"
   ]
  },
  {
   "cell_type": "code",
   "execution_count": 24,
   "metadata": {},
   "outputs": [
    {
     "data": {
      "text/plain": [
       "0.47651006711409394"
      ]
     },
     "execution_count": 24,
     "metadata": {},
     "output_type": "execute_result"
    }
   ],
   "source": [
    "# Model accuracy for openface with pca\n",
    "get_accuracy('../../embeddings/visual_features_4.pkl', '../../embeddings2/visual_features_4.pkl', True, 64, 4, 40)"
   ]
  },
  {
   "cell_type": "code",
   "execution_count": 21,
   "metadata": {},
   "outputs": [
    {
     "data": {
      "text/plain": [
       "0.46308724832214765"
      ]
     },
     "execution_count": 21,
     "metadata": {},
     "output_type": "execute_result"
    }
   ],
   "source": [
    "# Model accuracy for vggface\n",
    "get_accuracy('../../embeddings/visual_features_5.pkl', '../../embeddings2/visual_features_5.pkl', False, 2622, 4, 40)"
   ]
  },
  {
   "cell_type": "code",
   "execution_count": 25,
   "metadata": {},
   "outputs": [
    {
     "data": {
      "text/plain": [
       "0.4899328859060403"
      ]
     },
     "execution_count": 25,
     "metadata": {},
     "output_type": "execute_result"
    }
   ],
   "source": [
    "# Model accuracy for vggface with pca\n",
    "get_accuracy('../../embeddings/visual_features_5.pkl', '../../embeddings2/visual_features_5.pkl', True, 64, 4, 40)"
   ]
  }
 ],
 "metadata": {
  "kernelspec": {
   "display_name": "Python 3",
   "language": "python",
   "name": "python3"
  },
  "language_info": {
   "codemirror_mode": {
    "name": "ipython",
    "version": 3
   },
   "file_extension": ".py",
   "mimetype": "text/x-python",
   "name": "python",
   "nbconvert_exporter": "python",
   "pygments_lexer": "ipython3",
   "version": "3.9.16"
  },
  "orig_nbformat": 4
 },
 "nbformat": 4,
 "nbformat_minor": 2
}
