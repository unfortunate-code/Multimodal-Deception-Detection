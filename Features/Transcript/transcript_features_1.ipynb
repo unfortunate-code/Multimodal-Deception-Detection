{
 "cells": [
  {
   "cell_type": "code",
   "execution_count": 6,
   "metadata": {},
   "outputs": [],
   "source": [
    "import pickle\n",
    "import torch\n",
    "from transformers import BertTokenizer, BertModel\n",
    "import matplotlib.pyplot as plt\n",
    "import os\n",
    "%matplotlib inline"
   ]
  },
  {
   "cell_type": "code",
   "execution_count": 13,
   "metadata": {},
   "outputs": [
    {
     "name": "stdout",
     "output_type": "stream",
     "text": [
      "Deceptive size: 61\n",
      "Truthful size: 60\n"
     ]
    }
   ],
   "source": [
    "DECEPTIVE_DIR = '../../data/Transcription/Deceptive/'\n",
    "deceptive = os.listdir(DECEPTIVE_DIR)\n",
    "TRUTHFUL_DIR = '../../data/Transcription/Truthful/'\n",
    "truthful = os.listdir(TRUTHFUL_DIR)\n",
    "print('Deceptive size:', len(deceptive))\n",
    "print('Truthful size:', len(truthful))"
   ]
  },
  {
   "cell_type": "code",
   "execution_count": 37,
   "metadata": {},
   "outputs": [
    {
     "name": "stderr",
     "output_type": "stream",
     "text": [
      "Some weights of the model checkpoint at bert-base-uncased were not used when initializing BertModel: ['cls.seq_relationship.weight', 'cls.seq_relationship.bias', 'cls.predictions.transform.LayerNorm.bias', 'cls.predictions.decoder.weight', 'cls.predictions.transform.dense.weight', 'cls.predictions.transform.dense.bias', 'cls.predictions.bias', 'cls.predictions.transform.LayerNorm.weight']\n",
      "- This IS expected if you are initializing BertModel from the checkpoint of a model trained on another task or with another architecture (e.g. initializing a BertForSequenceClassification model from a BertForPreTraining model).\n",
      "- This IS NOT expected if you are initializing BertModel from the checkpoint of a model that you expect to be exactly identical (initializing a BertForSequenceClassification model from a BertForSequenceClassification model).\n"
     ]
    }
   ],
   "source": [
    "model = BertModel.from_pretrained('bert-base-uncased', output_hidden_states = True)\n",
    "model.eval()\n",
    "tokenizer = BertTokenizer.from_pretrained('bert-base-uncased')"
   ]
  },
  {
   "cell_type": "code",
   "execution_count": 38,
   "metadata": {},
   "outputs": [],
   "source": [
    "def prepare_text(text, tokenizer):\n",
    "    marked_text = \"[CLS] \" + text + \" [SEP]\"\n",
    "    tokenized_text = tokenizer.tokenize(marked_text)\n",
    "    indexed_tokens = tokenizer.convert_tokens_to_ids(tokenized_text)\n",
    "    segments_ids = [1]*len(indexed_tokens)\n",
    "    tokens_tensor = torch.tensor([indexed_tokens])\n",
    "    segments_tensors = torch.tensor([segments_ids])\n",
    "    return tokenized_text, tokens_tensor, segments_tensors"
   ]
  },
  {
   "cell_type": "code",
   "execution_count": 56,
   "metadata": {},
   "outputs": [],
   "source": [
    "def get_bert_embeddings(tokens_tensor, segments_tensor, model):\n",
    "    with torch.no_grad():\n",
    "        outputs = model(tokens_tensor, segments_tensor)\n",
    "        hidden_states = outputs[2]\n",
    "    token_embeddings = hidden_states[-2][0]\n",
    "    return torch.mean(token_embeddings, dim=0)"
   ]
  },
  {
   "cell_type": "code",
   "execution_count": 59,
   "metadata": {},
   "outputs": [],
   "source": [
    "embedding_map = {}\n",
    "for file in truthful:\n",
    "    with open(TRUTHFUL_DIR + file, encoding='utf8') as f:\n",
    "        text = f.read()\n",
    "        tokenized_text, tokens_tensor, segments_tensor = prepare_text(text, tokenizer)\n",
    "        embeddings = get_bert_embeddings(tokens_tensor, segments_tensor, model)\n",
    "        embedding_map[file.split('.')[0]] = embeddings\n",
    "for file in deceptive:\n",
    "    with open(DECEPTIVE_DIR + file, encoding='utf8') as f:\n",
    "        text = f.read()\n",
    "        tokenized_text, tokens_tensor, segments_tensor = prepare_text(text, tokenizer)\n",
    "        embeddings = get_bert_embeddings(tokens_tensor, segments_tensor, model)\n",
    "        embedding_map[file.split('.')[0]] = embeddings\n",
    "with open('../../embeddings/transcript_features_1.pkl', 'wb') as f:\n",
    "    pickle.dump(embedding_map, f)"
   ]
  }
 ],
 "metadata": {
  "kernelspec": {
   "display_name": "Python 3",
   "language": "python",
   "name": "python3"
  },
  "language_info": {
   "codemirror_mode": {
    "name": "ipython",
    "version": 3
   },
   "file_extension": ".py",
   "mimetype": "text/x-python",
   "name": "python",
   "nbconvert_exporter": "python",
   "pygments_lexer": "ipython3",
   "version": "3.10.10"
  },
  "orig_nbformat": 4,
  "vscode": {
   "interpreter": {
    "hash": "2456d5f59d82127ea2eccdb103632083e2ef55b59d3f2fd8c2a083ed0a8a9a5a"
   }
  }
 },
 "nbformat": 4,
 "nbformat_minor": 2
}
